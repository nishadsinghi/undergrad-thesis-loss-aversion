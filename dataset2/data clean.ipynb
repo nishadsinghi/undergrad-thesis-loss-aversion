{
 "cells": [
  {
   "cell_type": "code",
   "execution_count": 1,
   "metadata": {},
   "outputs": [],
   "source": [
    "import numpy as np\n",
    "from scipy.stats import zscore"
   ]
  },
  {
   "cell_type": "code",
   "execution_count": 2,
   "metadata": {},
   "outputs": [
    {
     "name": "stdout",
     "output_type": "stream",
     "text": [
      "[[  1.           1.           3.79026967  12.          -7.5       ]\n",
      " [  1.           1.           2.00377995  10.         -15.        ]\n",
      " [  1.           0.           3.99346406   2.          -3.        ]\n",
      " [  1.           0.           4.90844364  10.         -12.5       ]\n",
      " [  1.           1.           1.06464404  12.          -3.75      ]\n",
      " [  1.           0.           1.86680253  12.         -24.        ]\n",
      " [  1.           1.           1.53919871   6.          -4.5       ]\n",
      " [  1.           1.           1.06368711  10.          -4.38      ]\n",
      " [  1.           1.           2.10096695   4.          -3.5       ]\n",
      " [  1.           1.           1.27326566  10.          -6.25      ]]\n",
      "(8736, 5)\n"
     ]
    }
   ],
   "source": [
    "data = np.genfromtxt(\"dataZeroSure.csv\", delimiter=',')[1:, 1:]\n",
    "print(data[:10])\n",
    "print(np.shape(data))"
   ]
  },
  {
   "cell_type": "code",
   "execution_count": 3,
   "metadata": {},
   "outputs": [
    {
     "name": "stdout",
     "output_type": "stream",
     "text": [
      "(8671, 5)\n"
     ]
    },
    {
     "data": {
      "text/plain": [
       "array([[  1.        ,   1.        ,   3.79026967,  12.        ,\n",
       "         -7.5       ],\n",
       "       [  1.        ,   1.        ,   2.00377995,  10.        ,\n",
       "        -15.        ],\n",
       "       [  1.        ,   0.        ,   3.99346406,   2.        ,\n",
       "         -3.        ],\n",
       "       ...,\n",
       "       [ 39.        ,   0.        ,   0.91683251,   4.        ,\n",
       "         -3.5       ],\n",
       "       [ 39.        ,   1.        ,   1.07779575,   5.        ,\n",
       "         -3.13      ],\n",
       "       [ 39.        ,   0.        ,   1.88081138,   9.        ,\n",
       "         -7.88      ]])"
      ]
     },
     "execution_count": 3,
     "metadata": {},
     "output_type": "execute_result"
    }
   ],
   "source": [
    "# remove all trials less than 250 ms and greater than 10.5 s\n",
    "trialsMoreThan250ms = data[data[:, 2] > 0.25]\n",
    "trialsLessThan10_5s = trialsMoreThan250ms[trialsMoreThan250ms[:, 2] < 10.5]\n",
    "print(np.shape(trialsLessThan10_5s))\n",
    "trialsLessThan10_5s"
   ]
  },
  {
   "cell_type": "code",
   "execution_count": 4,
   "metadata": {},
   "outputs": [],
   "source": [
    "def getTrials(gain, loss, choice):\n",
    "    trialsGain = trialsLessThan10_5s[trialsLessThan10_5s[:, 3] == gain]\n",
    "    trialsLoss = trialsGain[trialsGain[:, 4] == loss]\n",
    "    trialsChoice = trialsLoss[trialsLoss[:, 1] == choice]\n",
    "    \n",
    "    return trialsChoice"
   ]
  },
  {
   "cell_type": "code",
   "execution_count": 5,
   "metadata": {},
   "outputs": [
    {
     "name": "stdout",
     "output_type": "stream",
     "text": [
      "2.0 -4.0 0\n",
      "2.0 -4.0 1\n",
      "2.0 -3.5 0\n",
      "2.0 -3.5 1\n",
      "2.0 -3.0 0\n",
      "2.0 -3.0 1\n",
      "2.0 -2.5 0\n",
      "2.0 -2.5 1\n",
      "2.0 -2.0 0\n",
      "2.0 -2.0 1\n",
      "2.0 -1.75 0\n",
      "2.0 -1.75 1\n",
      "2.0 -1.5 0\n",
      "2.0 -1.5 1\n",
      "2.0 -1.25 0\n",
      "2.0 -1.25 1\n",
      "2.0 -1.0 0\n",
      "2.0 -1.0 1\n",
      "2.0 -0.88 0\n",
      "2.0 -0.88 1\n",
      "2.0 -0.75 0\n",
      "2.0 -0.75 1\n",
      "2.0 -0.63 0\n",
      "2.0 -0.63 1\n",
      "2.0 -0.5 0\n",
      "2.0 -0.5 1\n",
      "2.0 -0.38 0\n",
      "2.0 -0.38 1\n",
      "4.0 -8.0 0\n",
      "4.0 -8.0 1\n",
      "4.0 -7.0 0\n",
      "4.0 -7.0 1\n",
      "4.0 -6.0 0\n",
      "4.0 -6.0 1\n",
      "4.0 -5.0 0\n",
      "4.0 -5.0 1\n",
      "4.0 -4.0 0\n",
      "4.0 -4.0 1\n",
      "4.0 -3.5 0\n",
      "4.0 -3.5 1\n",
      "4.0 -3.0 0\n",
      "4.0 -3.0 1\n",
      "4.0 -2.5 0\n",
      "4.0 -2.5 1\n",
      "4.0 -2.0 0\n",
      "4.0 -2.0 1\n",
      "4.0 -1.75 0\n",
      "4.0 -1.75 1\n",
      "4.0 -1.5 0\n",
      "4.0 -1.5 1\n",
      "4.0 -1.25 0\n",
      "4.0 -1.25 1\n",
      "4.0 -1.0 0\n",
      "4.0 -1.0 1\n",
      "4.0 -0.75 0\n",
      "4.0 -0.75 1\n",
      "5.0 -10.0 0\n",
      "5.0 -10.0 1\n",
      "5.0 -8.75 0\n",
      "5.0 -8.75 1\n",
      "5.0 -7.5 0\n",
      "5.0 -7.5 1\n",
      "5.0 -6.25 0\n",
      "5.0 -6.25 1\n",
      "5.0 -5.0 0\n",
      "5.0 -5.0 1\n",
      "5.0 -4.38 0\n",
      "5.0 -4.38 1\n",
      "5.0 -3.75 0\n",
      "5.0 -3.75 1\n",
      "5.0 -3.13 0\n",
      "5.0 -3.13 1\n",
      "5.0 -2.5 0\n",
      "5.0 -2.5 1\n",
      "5.0 -2.19 0\n",
      "5.0 -2.19 1\n",
      "5.0 -1.88 0\n",
      "5.0 -1.88 1\n",
      "5.0 -1.56 0\n",
      "5.0 -1.56 1\n",
      "5.0 -1.25 0\n",
      "5.0 -1.25 1\n",
      "5.0 -0.94 0\n",
      "5.0 -0.94 1\n",
      "6.0 -12.0 0\n",
      "6.0 -12.0 1\n",
      "6.0 -10.5 0\n",
      "6.0 -10.5 1\n",
      "6.0 -9.0 0\n",
      "6.0 -9.0 1\n",
      "6.0 -7.5 0\n",
      "6.0 -7.5 1\n",
      "6.0 -6.0 0\n",
      "6.0 -6.0 1\n",
      "6.0 -5.25 0\n",
      "6.0 -5.25 1\n",
      "6.0 -4.5 0\n",
      "6.0 -4.5 1\n",
      "6.0 -3.75 0\n",
      "6.0 -3.75 1\n",
      "6.0 -3.0 0\n",
      "6.0 -3.0 1\n",
      "6.0 -2.63 0\n",
      "6.0 -2.63 1\n",
      "6.0 -2.25 0\n",
      "6.0 -2.25 1\n",
      "6.0 -1.88 0\n",
      "6.0 -1.88 1\n",
      "6.0 -1.5 0\n",
      "6.0 -1.5 1\n",
      "6.0 -1.13 0\n",
      "6.0 -1.13 1\n",
      "8.0 -16.0 0\n",
      "8.0 -16.0 1\n",
      "8.0 -14.0 0\n",
      "8.0 -14.0 1\n",
      "8.0 -12.0 0\n",
      "8.0 -12.0 1\n",
      "8.0 -10.0 0\n",
      "8.0 -10.0 1\n",
      "8.0 -8.0 0\n",
      "8.0 -8.0 1\n",
      "8.0 -7.0 0\n",
      "8.0 -7.0 1\n",
      "8.0 -6.0 0\n",
      "8.0 -6.0 1\n",
      "8.0 -5.0 0\n",
      "8.0 -5.0 1\n",
      "8.0 -4.0 0\n",
      "8.0 -4.0 1\n",
      "8.0 -3.5 0\n",
      "8.0 -3.5 1\n",
      "8.0 -3.0 0\n",
      "8.0 -3.0 1\n",
      "8.0 -2.5 0\n",
      "8.0 -2.5 1\n",
      "8.0 -2.0 0\n",
      "8.0 -2.0 1\n",
      "8.0 -1.5 0\n",
      "8.0 -1.5 1\n",
      "9.0 -18.0 0\n",
      "9.0 -18.0 1\n",
      "9.0 -15.75 0\n",
      "9.0 -15.75 1\n",
      "9.0 -13.5 0\n",
      "9.0 -13.5 1\n",
      "9.0 -11.25 0\n",
      "9.0 -11.25 1\n",
      "9.0 -9.0 0\n",
      "9.0 -9.0 1\n",
      "9.0 -7.88 0\n",
      "9.0 -7.88 1\n",
      "9.0 -6.75 0\n",
      "9.0 -6.75 1\n",
      "9.0 -5.63 0\n",
      "9.0 -5.63 1\n",
      "9.0 -4.5 0\n",
      "9.0 -4.5 1\n",
      "9.0 -3.94 0\n",
      "9.0 -3.94 1\n",
      "9.0 -3.38 0\n",
      "9.0 -3.38 1\n",
      "9.0 -2.81 0\n",
      "9.0 -2.81 1\n",
      "9.0 -2.25 0\n",
      "9.0 -2.25 1\n",
      "9.0 -1.69 0\n",
      "9.0 -1.69 1\n",
      "10.0 -20.0 0\n",
      "10.0 -20.0 1\n",
      "10.0 -17.5 0\n",
      "10.0 -17.5 1\n",
      "10.0 -15.0 0\n",
      "10.0 -15.0 1\n",
      "10.0 -12.5 0\n",
      "10.0 -12.5 1\n",
      "10.0 -10.0 0\n",
      "10.0 -10.0 1\n",
      "10.0 -8.75 0\n",
      "10.0 -8.75 1\n",
      "10.0 -7.5 0\n",
      "10.0 -7.5 1\n"
     ]
    },
    {
     "name": "stderr",
     "output_type": "stream",
     "text": [
      "/Library/Frameworks/Python.framework/Versions/3.7/lib/python3.7/site-packages/scipy/stats/stats.py:2309: RuntimeWarning: Mean of empty slice.\n",
      "  mns = a.mean(axis=axis)\n",
      "/Library/Frameworks/Python.framework/Versions/3.7/lib/python3.7/site-packages/numpy/core/_methods.py:161: RuntimeWarning: invalid value encountered in double_scalars\n",
      "  ret = ret.dtype.type(ret / rcount)\n",
      "/Library/Frameworks/Python.framework/Versions/3.7/lib/python3.7/site-packages/numpy/core/_methods.py:217: RuntimeWarning: Degrees of freedom <= 0 for slice\n",
      "  keepdims=keepdims)\n",
      "/Library/Frameworks/Python.framework/Versions/3.7/lib/python3.7/site-packages/numpy/core/_methods.py:186: RuntimeWarning: invalid value encountered in true_divide\n",
      "  arrmean, rcount, out=arrmean, casting='unsafe', subok=False)\n",
      "/Library/Frameworks/Python.framework/Versions/3.7/lib/python3.7/site-packages/numpy/core/_methods.py:209: RuntimeWarning: invalid value encountered in double_scalars\n",
      "  ret = ret.dtype.type(ret / rcount)\n",
      "/Library/Frameworks/Python.framework/Versions/3.7/lib/python3.7/site-packages/scipy/stats/stats.py:2315: RuntimeWarning: invalid value encountered in true_divide\n",
      "  return (a - mns) / sstd\n"
     ]
    },
    {
     "name": "stdout",
     "output_type": "stream",
     "text": [
      "10.0 -6.25 0\n",
      "10.0 -6.25 1\n",
      "10.0 -5.0 0\n",
      "10.0 -5.0 1\n",
      "10.0 -4.38 0\n",
      "10.0 -4.38 1\n",
      "10.0 -3.75 0\n",
      "10.0 -3.75 1\n",
      "10.0 -3.13 0\n",
      "10.0 -3.13 1\n",
      "10.0 -2.5 0\n",
      "10.0 -2.5 1\n",
      "10.0 -1.88 0\n",
      "10.0 -1.88 1\n",
      "12.0 -24.0 0\n",
      "12.0 -24.0 1\n",
      "12.0 -21.0 0\n",
      "12.0 -21.0 1\n",
      "12.0 -18.0 0\n",
      "12.0 -18.0 1\n",
      "12.0 -15.0 0\n",
      "12.0 -15.0 1\n",
      "12.0 -12.0 0\n",
      "12.0 -12.0 1\n",
      "12.0 -10.5 0\n",
      "12.0 -10.5 1\n",
      "12.0 -9.0 0\n",
      "12.0 -9.0 1\n",
      "12.0 -7.5 0\n",
      "12.0 -7.5 1\n",
      "12.0 -6.0 0\n",
      "12.0 -6.0 1\n",
      "12.0 -5.25 0\n",
      "12.0 -5.25 1\n",
      "12.0 -4.5 0\n",
      "12.0 -4.5 1\n",
      "12.0 -3.75 0\n",
      "12.0 -3.75 1\n",
      "12.0 -3.0 0\n",
      "12.0 -3.0 1\n",
      "12.0 -2.25 0\n",
      "12.0 -2.25 1\n",
      "(8438, 5)\n"
     ]
    }
   ],
   "source": [
    "def getCleanedTrialsZScore(gain, loss, choice):\n",
    "    print(gain, loss, choice)\n",
    "    trials = getTrials(gain, loss, choice)\n",
    "    reactionTimes = trials[:, 2]\n",
    "    zScores = np.abs(zscore(reactionTimes))\n",
    "    cleanedTrials = trials[zScores < 3]\n",
    "    \n",
    "    return cleanedTrials\n",
    "    \n",
    "allStakes = np.unique(data[:, -2:], axis=0)\n",
    "\n",
    "allZScoreCleanedTrials = [getCleanedTrialsZScore(*stakes, choice) for stakes in allStakes for choice in range(0, 2)]\n",
    "allZScoreCleanedTrialsArray = np.vstack(allZScoreCleanedTrials)\n",
    "print(np.shape(allZScoreCleanedTrialsArray))"
   ]
  },
  {
   "cell_type": "code",
   "execution_count": 6,
   "metadata": {},
   "outputs": [
    {
     "data": {
      "text/plain": [
       "array([[ 1.        ,  0.        ,  1.41810656,  2.        , -4.        ],\n",
       "       [ 1.        ,  0.        ,  1.11064412,  2.        , -4.        ],\n",
       "       [ 2.        ,  0.        ,  1.69580287,  2.        , -4.        ],\n",
       "       [ 2.        ,  0.        ,  0.69828725,  2.        , -4.        ],\n",
       "       [ 3.        ,  0.        ,  0.70951678,  2.        , -4.        ],\n",
       "       [ 3.        ,  0.        ,  0.72639418,  2.        , -4.        ],\n",
       "       [ 4.        ,  0.        ,  1.04201617,  2.        , -4.        ],\n",
       "       [ 4.        ,  0.        ,  0.70147738,  2.        , -4.        ],\n",
       "       [ 5.        ,  0.        ,  1.24876051,  2.        , -4.        ],\n",
       "       [ 5.        ,  0.        ,  0.77599342,  2.        , -4.        ]])"
      ]
     },
     "execution_count": 6,
     "metadata": {},
     "output_type": "execute_result"
    }
   ],
   "source": [
    "allZScoreCleanedTrialsArray[:10, :]"
   ]
  },
  {
   "cell_type": "code",
   "execution_count": 8,
   "metadata": {},
   "outputs": [
    {
     "data": {
      "image/png": "[encoded data removed]",
      "text/plain": [
       "<Figure size 432x288 with 1 Axes>"
      ]
     },
     "metadata": {
      "needs_background": "light"
     },
     "output_type": "display_data"
    }
   ],
   "source": [
    "from matplotlib import pyplot as plt\n",
    "plt.hist(allZScoreCleanedTrialsArray[:, 2].flatten())\n",
    "plt.show()"
   ]
  },
  {
   "cell_type": "code",
   "execution_count": 9,
   "metadata": {},
   "outputs": [],
   "source": [
    "np.savetxt(\"dataZeroSure_cleaned_250_10500_zScore3.csv\", allZScoreCleanedTrialsArray, delimiter=\",\")"
   ]
  },
  {
   "cell_type": "code",
   "execution_count": null,
   "metadata": {},
   "outputs": [],
   "source": []
  }
 ],
 "metadata": {
  "kernelspec": {
   "display_name": "Python 3",
   "language": "python",
   "name": "python3"
  },
  "language_info": {
   "codemirror_mode": {
    "name": "ipython",
    "version": 3
   },
   "file_extension": ".py",
   "mimetype": "text/x-python",
   "name": "python",
   "nbconvert_exporter": "python",
   "pygments_lexer": "ipython3",
   "version": "3.7.4"
  }
 },
 "nbformat": 4,
 "nbformat_minor": 2
}
