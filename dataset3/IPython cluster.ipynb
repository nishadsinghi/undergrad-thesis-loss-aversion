{
 "cells": [
  {
   "cell_type": "code",
   "execution_count": 2,
   "metadata": {},
   "outputs": [
    {
     "name": "stdout",
     "output_type": "stream",
     "text": [
      "2020-09-18 13:01:34.909 [IPClusterStart] Removing pid file: /Users/nishadsinghi/.ipython/profile_default/pid/ipcluster.pid\n",
      "2020-09-18 13:01:34.910 [IPClusterStart] Starting ipcluster with [daemon=False]\n",
      "2020-09-18 13:01:34.911 [IPClusterStart] Creating pid file: /Users/nishadsinghi/.ipython/profile_default/pid/ipcluster.pid\n",
      "2020-09-18 13:01:34.911 [IPClusterStart] Starting Controller with LocalControllerLauncher\n",
      "2020-09-18 13:01:35.923 [IPClusterStart] Starting 4 Engines with LocalEngineSetLauncher\n",
      "2020-09-18 13:02:06.274 [IPClusterStart] Engines appear to have started successfully\n",
      "^C\n",
      "2020-09-19 11:42:27.469 [IPClusterStart] ERROR | IPython cluster: stopping\n",
      "2020-09-19 11:42:27.517 [IPClusterStart] Stopping Engines...\n"
     ]
    }
   ],
   "source": [
    "!ipcluster start -n 4"
   ]
  },
  {
   "cell_type": "code",
   "execution_count": null,
   "metadata": {},
   "outputs": [],
   "source": []
  }
 ],
 "metadata": {
  "kernelspec": {
   "display_name": "Python 2",
   "language": "python",
   "name": "python2"
  },
  "language_info": {
   "codemirror_mode": {
    "name": "ipython",
    "version": 2
   },
   "file_extension": ".py",
   "mimetype": "text/x-python",
   "name": "python",
   "nbconvert_exporter": "python",
   "pygments_lexer": "ipython2",
   "version": "2.7.16"
  }
 },
 "nbformat": 4,
 "nbformat_minor": 2
}
