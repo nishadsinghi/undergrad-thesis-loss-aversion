{
 "cells": [
  {
   "cell_type": "code",
   "execution_count": 1,
   "metadata": {},
   "outputs": [],
   "source": [
    "import numpy as np\n",
    "from scipy.stats import zscore"
   ]
  },
  {
   "cell_type": "code",
   "execution_count": 2,
   "metadata": {},
   "outputs": [
    {
     "name": "stdout",
     "output_type": "stream",
     "text": [
      "[[  1.      0.      2.792   1.     -1.   ]\n",
      " [  1.      0.      1.206   1.     -2.   ]\n",
      " [  1.      0.      0.991   1.     -3.   ]\n",
      " [  1.      0.      1.256   1.     -4.   ]\n",
      " [  1.      0.      1.005   1.     -5.   ]\n",
      " [  1.      0.      1.409   1.     -6.   ]\n",
      " [  1.      0.      1.08    1.     -7.   ]\n",
      " [  1.      0.      1.308   1.     -8.   ]\n",
      " [  1.      0.      1.338   1.     -9.   ]\n",
      " [  1.      0.      0.927   1.    -10.   ]]\n",
      "(18800, 5)\n"
     ]
    }
   ],
   "source": [
    "data = np.genfromtxt(\"data_preprocessed.csv\", delimiter=',')[1:, 1:]\n",
    "print(data[:10])\n",
    "print(np.shape(data))"
   ]
  },
  {
   "cell_type": "code",
   "execution_count": 3,
   "metadata": {},
   "outputs": [
    {
     "name": "stdout",
     "output_type": "stream",
     "text": [
      "(18790, 5)\n"
     ]
    },
    {
     "data": {
      "text/plain": [
       "array([[  1.   ,   0.   ,   2.792,   1.   ,  -1.   ],\n",
       "       [  1.   ,   0.   ,   1.206,   1.   ,  -2.   ],\n",
       "       [  1.   ,   0.   ,   0.991,   1.   ,  -3.   ],\n",
       "       ...,\n",
       "       [ 94.   ,   1.   ,   0.98 ,  10.   ,  -8.   ],\n",
       "       [ 94.   ,   1.   ,   0.78 ,  10.   ,  -9.   ],\n",
       "       [ 94.   ,   1.   ,   0.751,  10.   , -10.   ]])"
      ]
     },
     "execution_count": 3,
     "metadata": {},
     "output_type": "execute_result"
    }
   ],
   "source": [
    "# remove all trials less than 250 ms and greater than 10.5 s\n",
    "trialsMoreThan250ms = data[data[:, 2] > 0.25]\n",
    "trialsLessThan10_5s = trialsMoreThan250ms[trialsMoreThan250ms[:, 2] < 10.5]\n",
    "print(np.shape(trialsLessThan10_5s))\n",
    "trialsLessThan10_5s"
   ]
  },
  {
   "cell_type": "code",
   "execution_count": 4,
   "metadata": {},
   "outputs": [],
   "source": [
    "def getTrials(gain, loss, choice):\n",
    "    trialsGain = trialsLessThan10_5s[trialsLessThan10_5s[:, 3] == gain]\n",
    "    trialsLoss = trialsGain[trialsGain[:, 4] == loss]\n",
    "    trialsChoice = trialsLoss[trialsLoss[:, 1] == choice]\n",
    "    \n",
    "    return trialsChoice"
   ]
  },
  {
   "cell_type": "code",
   "execution_count": 5,
   "metadata": {},
   "outputs": [
    {
     "name": "stdout",
     "output_type": "stream",
     "text": [
      "1.0 -10.0 0\n",
      "1.0 -10.0 1\n",
      "1.0 -9.0 0\n",
      "1.0 -9.0 1\n",
      "1.0 -8.0 0\n",
      "1.0 -8.0 1\n",
      "1.0 -7.0 0\n",
      "1.0 -7.0 1\n",
      "1.0 -6.0 0\n",
      "1.0 -6.0 1\n",
      "1.0 -5.0 0\n",
      "1.0 -5.0 1\n",
      "1.0 -4.0 0\n",
      "1.0 -4.0 1\n",
      "1.0 -3.0 0\n",
      "1.0 -3.0 1\n",
      "1.0 -2.0 0\n",
      "1.0 -2.0 1\n",
      "1.0 -1.0 0\n",
      "1.0 -1.0 1\n",
      "2.0 -10.0 0\n",
      "2.0 -10.0 1\n",
      "2.0 -9.0 0\n",
      "2.0 -9.0 1\n",
      "2.0 -8.0 0\n",
      "2.0 -8.0 1\n",
      "2.0 -7.0 0\n",
      "2.0 -7.0 1\n",
      "2.0 -6.0 0\n",
      "2.0 -6.0 1\n",
      "2.0 -5.0 0\n",
      "2.0 -5.0 1\n",
      "2.0 -4.0 0\n",
      "2.0 -4.0 1\n",
      "2.0 -3.0 0\n",
      "2.0 -3.0 1\n",
      "2.0 -2.0 0\n",
      "2.0 -2.0 1\n",
      "2.0 -1.0 0\n",
      "2.0 -1.0 1\n",
      "3.0 -10.0 0\n",
      "3.0 -10.0 1\n",
      "3.0 -9.0 0\n",
      "3.0 -9.0 1\n",
      "3.0 -8.0 0\n",
      "3.0 -8.0 1\n",
      "3.0 -7.0 0\n",
      "3.0 -7.0 1\n",
      "3.0 -6.0 0\n",
      "3.0 -6.0 1\n",
      "3.0 -5.0 0\n",
      "3.0 -5.0 1\n",
      "3.0 -4.0 0\n",
      "3.0 -4.0 1\n",
      "3.0 -3.0 0\n",
      "3.0 -3.0 1\n",
      "3.0 -2.0 0\n",
      "3.0 -2.0 1\n",
      "3.0 -1.0 0\n",
      "3.0 -1.0 1\n",
      "4.0 -10.0 0\n",
      "4.0 -10.0 1\n",
      "4.0 -9.0 0\n",
      "4.0 -9.0 1\n",
      "4.0 -8.0 0\n",
      "4.0 -8.0 1\n",
      "4.0 -7.0 0\n",
      "4.0 -7.0 1\n",
      "4.0 -6.0 0\n",
      "4.0 -6.0 1\n",
      "4.0 -5.0 0\n",
      "4.0 -5.0 1\n",
      "4.0 -4.0 0\n",
      "4.0 -4.0 1\n",
      "4.0 -3.0 0\n",
      "4.0 -3.0 1\n",
      "4.0 -2.0 0\n",
      "4.0 -2.0 1\n",
      "4.0 -1.0 0\n",
      "4.0 -1.0 1\n",
      "5.0 -10.0 0\n",
      "5.0 -10.0 1\n",
      "5.0 -9.0 0\n",
      "5.0 -9.0 1\n",
      "5.0 -8.0 0\n",
      "5.0 -8.0 1\n",
      "5.0 -7.0 0\n",
      "5.0 -7.0 1\n",
      "5.0 -6.0 0\n",
      "5.0 -6.0 1\n",
      "5.0 -5.0 0\n",
      "5.0 -5.0 1\n",
      "5.0 -4.0 0\n",
      "5.0 -4.0 1\n",
      "5.0 -3.0 0\n",
      "5.0 -3.0 1\n",
      "5.0 -2.0 0\n",
      "5.0 -2.0 1\n",
      "5.0 -1.0 0\n",
      "5.0 -1.0 1\n",
      "6.0 -10.0 0\n",
      "6.0 -10.0 1\n",
      "6.0 -9.0 0\n",
      "6.0 -9.0 1\n",
      "6.0 -8.0 0\n",
      "6.0 -8.0 1\n",
      "6.0 -7.0 0\n",
      "6.0 -7.0 1\n",
      "6.0 -6.0 0\n",
      "6.0 -6.0 1\n",
      "6.0 -5.0 0\n",
      "6.0 -5.0 1\n",
      "6.0 -4.0 0\n",
      "6.0 -4.0 1\n",
      "6.0 -3.0 0\n",
      "6.0 -3.0 1\n",
      "6.0 -2.0 0\n",
      "6.0 -2.0 1\n",
      "6.0 -1.0 0\n",
      "6.0 -1.0 1\n",
      "7.0 -10.0 0\n",
      "7.0 -10.0 1\n",
      "7.0 -9.0 0\n",
      "7.0 -9.0 1\n",
      "7.0 -8.0 0\n",
      "7.0 -8.0 1\n",
      "7.0 -7.0 0\n",
      "7.0 -7.0 1\n",
      "7.0 -6.0 0\n",
      "7.0 -6.0 1\n",
      "7.0 -5.0 0\n",
      "7.0 -5.0 1\n",
      "7.0 -4.0 0\n",
      "7.0 -4.0 1\n",
      "7.0 -3.0 0\n",
      "7.0 -3.0 1\n",
      "7.0 -2.0 0\n",
      "7.0 -2.0 1\n",
      "7.0 -1.0 0\n",
      "7.0 -1.0 1\n",
      "8.0 -10.0 0\n",
      "8.0 -10.0 1\n",
      "8.0 -9.0 0\n",
      "8.0 -9.0 1\n",
      "8.0 -8.0 0\n",
      "8.0 -8.0 1\n",
      "8.0 -7.0 0\n",
      "8.0 -7.0 1\n",
      "8.0 -6.0 0\n",
      "8.0 -6.0 1\n",
      "8.0 -5.0 0\n",
      "8.0 -5.0 1\n",
      "8.0 -4.0 0\n",
      "8.0 -4.0 1\n",
      "8.0 -3.0 0\n",
      "8.0 -3.0 1\n",
      "8.0 -2.0 0\n",
      "8.0 -2.0 1\n",
      "8.0 -1.0 0\n",
      "8.0 -1.0 1\n",
      "9.0 -10.0 0\n",
      "9.0 -10.0 1\n",
      "9.0 -9.0 0\n",
      "9.0 -9.0 1\n",
      "9.0 -8.0 0\n",
      "9.0 -8.0 1\n",
      "9.0 -7.0 0\n",
      "9.0 -7.0 1\n",
      "9.0 -6.0 0\n",
      "9.0 -6.0 1\n",
      "9.0 -5.0 0\n",
      "9.0 -5.0 1\n",
      "9.0 -4.0 0\n",
      "9.0 -4.0 1\n",
      "9.0 -3.0 0\n",
      "9.0 -3.0 1\n",
      "9.0 -2.0 0\n",
      "9.0 -2.0 1\n",
      "9.0 -1.0 0\n",
      "9.0 -1.0 1\n",
      "10.0 -10.0 0\n",
      "10.0 -10.0 1\n",
      "10.0 -9.0 0\n",
      "10.0 -9.0 1\n",
      "10.0 -8.0 0\n",
      "10.0 -8.0 1\n",
      "10.0 -7.0 0\n",
      "10.0 -7.0 1\n",
      "10.0 -6.0 0\n",
      "10.0 -6.0 1\n",
      "10.0 -5.0 0\n",
      "10.0 -5.0 1\n",
      "10.0 -4.0 0\n",
      "10.0 -4.0 1\n",
      "10.0 -3.0 0\n",
      "10.0 -3.0 1\n",
      "10.0 -2.0 0\n",
      "10.0 -2.0 1\n",
      "10.0 -1.0 0\n",
      "10.0 -1.0 1\n",
      "(18367, 5)\n"
     ]
    },
    {
     "name": "stderr",
     "output_type": "stream",
     "text": [
      "/Library/Frameworks/Python.framework/Versions/3.7/lib/python3.7/site-packages/scipy/stats/stats.py:2315: RuntimeWarning: invalid value encountered in true_divide\n",
      "  return (a - mns) / sstd\n"
     ]
    }
   ],
   "source": [
    "def getCleanedTrialsZScore(gain, loss, choice):\n",
    "    print(gain, loss, choice)\n",
    "    trials = getTrials(gain, loss, choice)\n",
    "    reactionTimes = trials[:, 2]\n",
    "    zScores = np.abs(zscore(reactionTimes))\n",
    "    cleanedTrials = trials[zScores < 3]\n",
    "    \n",
    "    return cleanedTrials\n",
    "    \n",
    "allStakes = np.unique(data[:, -2:], axis=0)\n",
    "\n",
    "allZScoreCleanedTrials = [getCleanedTrialsZScore(*stakes, choice) for stakes in allStakes for choice in range(0, 2)]\n",
    "allZScoreCleanedTrialsArray = np.vstack(allZScoreCleanedTrials)\n",
    "print(np.shape(allZScoreCleanedTrialsArray))"
   ]
  },
  {
   "cell_type": "code",
   "execution_count": 6,
   "metadata": {},
   "outputs": [
    {
     "data": {
      "text/plain": [
       "array([[  1.   ,   0.   ,   0.927,   1.   , -10.   ],\n",
       "       [  1.   ,   0.   ,   1.367,   1.   , -10.   ],\n",
       "       [  2.   ,   0.   ,   1.095,   1.   , -10.   ],\n",
       "       [  2.   ,   0.   ,   0.756,   1.   , -10.   ],\n",
       "       [  3.   ,   0.   ,   0.827,   1.   , -10.   ],\n",
       "       [  3.   ,   0.   ,   1.06 ,   1.   , -10.   ],\n",
       "       [  4.   ,   0.   ,   1.005,   1.   , -10.   ],\n",
       "       [  4.   ,   0.   ,   1.137,   1.   , -10.   ],\n",
       "       [  5.   ,   0.   ,   1.038,   1.   , -10.   ],\n",
       "       [  5.   ,   0.   ,   0.931,   1.   , -10.   ]])"
      ]
     },
     "execution_count": 6,
     "metadata": {},
     "output_type": "execute_result"
    }
   ],
   "source": [
    "allZScoreCleanedTrialsArray[:10, :]"
   ]
  },
  {
   "cell_type": "code",
   "execution_count": 8,
   "metadata": {},
   "outputs": [
    {
     "data": {
      "image/png": "[encoded data removed]",
      "text/plain": [
       "<Figure size 432x288 with 1 Axes>"
      ]
     },
     "metadata": {
      "needs_background": "light"
     },
     "output_type": "display_data"
    }
   ],
   "source": [
    "from matplotlib import pyplot as plt\n",
    "plt.hist(allZScoreCleanedTrialsArray[:, 2].flatten())\n",
    "plt.show()"
   ]
  },
  {
   "cell_type": "code",
   "execution_count": 9,
   "metadata": {},
   "outputs": [],
   "source": [
    "np.savetxt(\"data_cleaned_250_10500_zScore3.csv\", allZScoreCleanedTrialsArray, delimiter=\",\")"
   ]
  },
  {
   "cell_type": "code",
   "execution_count": null,
   "metadata": {},
   "outputs": [],
   "source": []
  }
 ],
 "metadata": {
  "kernelspec": {
   "display_name": "Python 3",
   "language": "python",
   "name": "python3"
  },
  "language_info": {
   "codemirror_mode": {
    "name": "ipython",
    "version": 3
   },
   "file_extension": ".py",
   "mimetype": "text/x-python",
   "name": "python",
   "nbconvert_exporter": "python",
   "pygments_lexer": "ipython3",
   "version": "3.7.4"
  }
 },
 "nbformat": 4,
 "nbformat_minor": 2
}
