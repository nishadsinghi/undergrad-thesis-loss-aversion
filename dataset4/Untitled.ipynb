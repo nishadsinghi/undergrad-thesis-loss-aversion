{
 "cells": [
  {
   "cell_type": "code",
   "execution_count": null,
   "metadata": {},
   "outputs": [
    {
     "name": "stdout",
     "output_type": "stream",
     "text": [
      "2020-10-15 01:11:33.299 [IPClusterStart] Removing pid file: /Users/nishadsinghi/.ipython/profile_default/pid/ipcluster.pid\n",
      "2020-10-15 01:11:33.299 [IPClusterStart] Starting ipcluster with [daemon=False]\n",
      "2020-10-15 01:11:33.300 [IPClusterStart] Creating pid file: /Users/nishadsinghi/.ipython/profile_default/pid/ipcluster.pid\n",
      "2020-10-15 01:11:33.302 [IPClusterStart] Starting Controller with LocalControllerLauncher\n",
      "2020-10-15 01:11:34.312 [IPClusterStart] Starting 4 Engines with LocalEngineSetLauncher\n",
      "2020-10-15 01:12:04.668 [IPClusterStart] Engines appear to have started successfully\n"
     ]
    }
   ],
   "source": [
    "!ipcluster start -n 4"
   ]
  },
  {
   "cell_type": "code",
   "execution_count": null,
   "metadata": {},
   "outputs": [],
   "source": []
  }
 ],
 "metadata": {
  "kernelspec": {
   "display_name": "Python 2",
   "language": "python",
   "name": "python2"
  }
 },
 "nbformat": 4,
 "nbformat_minor": 2
}
