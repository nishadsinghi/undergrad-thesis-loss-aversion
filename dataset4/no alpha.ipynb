{
 "cells": [
  {
   "cell_type": "code",
   "execution_count": 1,
   "metadata": {},
   "outputs": [
    {
     "name": "stderr",
     "output_type": "stream",
     "text": [
      "/anaconda3/lib/python2.7/site-packages/IPython/parallel.py:13: ShimWarning: The `IPython.parallel` package has been deprecated since IPython 4.0. You should import from ipyparallel instead.\n",
      "  \"You should import from ipyparallel instead.\", ShimWarning)\n"
     ]
    }
   ],
   "source": [
    "import pandas as pd\n",
    "import hddm\n",
    "import numpy as np\n",
    "import os\n",
    "\n",
    "allSubjData = hddm.load_csv('data.csv', index_col=0)"
   ]
  },
  {
   "cell_type": "code",
   "execution_count": 2,
   "metadata": {
    "scrolled": true
   },
   "outputs": [
    {
     "data": {
      "text/html": [
       "<div>\n",
       "<style scoped>\n",
       "    .dataframe tbody tr th:only-of-type {\n",
       "        vertical-align: middle;\n",
       "    }\n",
       "\n",
       "    .dataframe tbody tr th {\n",
       "        vertical-align: top;\n",
       "    }\n",
       "\n",
       "    .dataframe thead th {\n",
       "        text-align: right;\n",
       "    }\n",
       "</style>\n",
       "<table border=\"1\" class=\"dataframe\">\n",
       "  <thead>\n",
       "    <tr style=\"text-align: right;\">\n",
       "      <th></th>\n",
       "      <th>subj_idx</th>\n",
       "      <th>response</th>\n",
       "      <th>rt</th>\n",
       "      <th>gain</th>\n",
       "      <th>loss</th>\n",
       "    </tr>\n",
       "  </thead>\n",
       "  <tbody>\n",
       "    <tr>\n",
       "      <th>1</th>\n",
       "      <td>1</td>\n",
       "      <td>1</td>\n",
       "      <td>1.793</td>\n",
       "      <td>18</td>\n",
       "      <td>-12</td>\n",
       "    </tr>\n",
       "    <tr>\n",
       "      <th>2</th>\n",
       "      <td>1</td>\n",
       "      <td>0</td>\n",
       "      <td>1.637</td>\n",
       "      <td>10</td>\n",
       "      <td>-15</td>\n",
       "    </tr>\n",
       "    <tr>\n",
       "      <th>3</th>\n",
       "      <td>1</td>\n",
       "      <td>1</td>\n",
       "      <td>1.316</td>\n",
       "      <td>34</td>\n",
       "      <td>-16</td>\n",
       "    </tr>\n",
       "    <tr>\n",
       "      <th>4</th>\n",
       "      <td>1</td>\n",
       "      <td>1</td>\n",
       "      <td>1.670</td>\n",
       "      <td>18</td>\n",
       "      <td>-5</td>\n",
       "    </tr>\n",
       "    <tr>\n",
       "      <th>5</th>\n",
       "      <td>1</td>\n",
       "      <td>1</td>\n",
       "      <td>1.232</td>\n",
       "      <td>26</td>\n",
       "      <td>-13</td>\n",
       "    </tr>\n",
       "  </tbody>\n",
       "</table>\n",
       "</div>"
      ],
      "text/plain": [
       "   subj_idx  response     rt  gain  loss\n",
       "1         1         1  1.793    18   -12\n",
       "2         1         0  1.637    10   -15\n",
       "3         1         1  1.316    34   -16\n",
       "4         1         1  1.670    18    -5\n",
       "5         1         1  1.232    26   -13"
      ]
     },
     "execution_count": 2,
     "metadata": {},
     "output_type": "execute_result"
    }
   ],
   "source": [
    "allSubjData.head()"
   ]
  },
  {
   "cell_type": "code",
   "execution_count": 3,
   "metadata": {},
   "outputs": [
    {
     "data": {
      "text/html": [
       "<div>\n",
       "<style scoped>\n",
       "    .dataframe tbody tr th:only-of-type {\n",
       "        vertical-align: middle;\n",
       "    }\n",
       "\n",
       "    .dataframe tbody tr th {\n",
       "        vertical-align: top;\n",
       "    }\n",
       "\n",
       "    .dataframe thead th {\n",
       "        text-align: right;\n",
       "    }\n",
       "</style>\n",
       "<table border=\"1\" class=\"dataframe\">\n",
       "  <thead>\n",
       "    <tr style=\"text-align: right;\">\n",
       "      <th></th>\n",
       "      <th>subj_idx</th>\n",
       "      <th>response</th>\n",
       "      <th>rt</th>\n",
       "      <th>gain</th>\n",
       "      <th>loss</th>\n",
       "    </tr>\n",
       "  </thead>\n",
       "  <tbody>\n",
       "    <tr>\n",
       "      <th>1</th>\n",
       "      <td>1</td>\n",
       "      <td>1</td>\n",
       "      <td>1.793</td>\n",
       "      <td>18</td>\n",
       "      <td>-12</td>\n",
       "    </tr>\n",
       "    <tr>\n",
       "      <th>2</th>\n",
       "      <td>1</td>\n",
       "      <td>0</td>\n",
       "      <td>1.637</td>\n",
       "      <td>10</td>\n",
       "      <td>-15</td>\n",
       "    </tr>\n",
       "    <tr>\n",
       "      <th>3</th>\n",
       "      <td>1</td>\n",
       "      <td>1</td>\n",
       "      <td>1.316</td>\n",
       "      <td>34</td>\n",
       "      <td>-16</td>\n",
       "    </tr>\n",
       "    <tr>\n",
       "      <th>4</th>\n",
       "      <td>1</td>\n",
       "      <td>1</td>\n",
       "      <td>1.670</td>\n",
       "      <td>18</td>\n",
       "      <td>-5</td>\n",
       "    </tr>\n",
       "    <tr>\n",
       "      <th>5</th>\n",
       "      <td>1</td>\n",
       "      <td>1</td>\n",
       "      <td>1.232</td>\n",
       "      <td>26</td>\n",
       "      <td>-13</td>\n",
       "    </tr>\n",
       "  </tbody>\n",
       "</table>\n",
       "</div>"
      ],
      "text/plain": [
       "   subj_idx  response     rt  gain  loss\n",
       "1         1         1  1.793    18   -12\n",
       "2         1         0  1.637    10   -15\n",
       "3         1         1  1.316    34   -16\n",
       "4         1         1  1.670    18    -5\n",
       "5         1         1  1.232    26   -13"
      ]
     },
     "execution_count": 3,
     "metadata": {},
     "output_type": "execute_result"
    }
   ],
   "source": [
    "data = allSubjData[allSubjData['subj_idx'] != 15]\n",
    "data.head()"
   ]
  },
  {
   "cell_type": "code",
   "execution_count": 4,
   "metadata": {},
   "outputs": [
    {
     "name": "stdout",
     "output_type": "stream",
     "text": [
      "Adding these covariates:\n",
      "['v_gain', 'v_loss']\n"
     ]
    }
   ],
   "source": [
    "m = hddm.models.HDDMRegressor(data, ['v ~ gain + loss - 1'], include=('z'), group_only_regressors=False)"
   ]
  },
  {
   "cell_type": "code",
   "execution_count": 5,
   "metadata": {
    "scrolled": true
   },
   "outputs": [
    {
     "name": "stderr",
     "output_type": "stream",
     "text": [
      "/anaconda3/lib/python2.7/site-packages/scipy/optimize/optimize.py:1934: RuntimeWarning: invalid value encountered in double_scalars\n",
      "  tmp2 = (x - v) * (fx - fw)\n",
      "/anaconda3/lib/python2.7/site-packages/scipy/optimize/optimize.py:1935: RuntimeWarning: invalid value encountered in double_scalars\n",
      "  p = (x - v) * tmp2 - (x - w) * tmp1\n"
     ]
    }
   ],
   "source": [
    "m.find_starting_values()"
   ]
  },
  {
   "cell_type": "code",
   "execution_count": 6,
   "metadata": {},
   "outputs": [
    {
     "name": "stdout",
     "output_type": "stream",
     "text": [
      " [-----------------100%-----------------] 10001 of 10000 complete in 18313.7 sec"
     ]
    },
    {
     "data": {
      "text/plain": [
       "<pymc.MCMC.MCMC at 0x10752f110>"
      ]
     },
     "execution_count": 6,
     "metadata": {},
     "output_type": "execute_result"
    }
   ],
   "source": [
    "if not os.path.exists('savedModels/no_alpha'):\n",
    "    os.makedirs('savedModels/no_alpha')\n",
    "\n",
    "m.sample(10000, burn=2500, dbname='savedModels/no_loss_aversion/db_no_alpha', db='pickle')"
   ]
  },
  {
   "cell_type": "code",
   "execution_count": 7,
   "metadata": {},
   "outputs": [
    {
     "name": "stdout",
     "output_type": "stream",
     "text": [
      "WARNING: Will not save custom link functions.\n"
     ]
    }
   ],
   "source": [
    "m.save('savedModels/no_loss_aversion/no_alpha')"
   ]
  },
  {
   "cell_type": "code",
   "execution_count": 125,
   "metadata": {},
   "outputs": [],
   "source": [
    "def run_model(id):\n",
    "    import pandas as pd\n",
    "    import hddm\n",
    "    import numpy as np\n",
    "    import os\n",
    "\n",
    "    allSubjData = hddm.load_csv('data.csv', index_col=0)    \n",
    "    data = allSubjData[allSubjData['subj_idx'] != 15]\n",
    "    \n",
    "    m = hddm.models.HDDMRegressor(data, ['v ~ gain + loss'], include=('z'), group_only_regressors=False)\n",
    "    m.find_starting_values()\n",
    "    m.sample(25000, burn=5000, dbname='savedModels/fullModel/db_fullModel_{}'.format(id), db='pickle')\n",
    "    m.save('savedModels/fullModel/fullModel_{}'.format(id))\n",
    "    \n",
    "    return m"
   ]
  },
  {
   "cell_type": "code",
   "execution_count": 126,
   "metadata": {},
   "outputs": [
    {
     "name": "stdout",
     "output_type": "stream",
     "text": [
      "WARNING: Custom link functions will not be loaded.\n",
      "WARNING: Custom link functions will not be loaded.\n",
      "WARNING: Custom link functions will not be loaded.\n",
      "WARNING: Custom link functions will not be loaded.\n"
     ]
    }
   ],
   "source": [
    "from kabuki.analyze import gelman_rubin\n",
    "\n",
    "from ipyparallel import Client\n",
    "v = Client()[:]\n",
    "jobs = v.map(run_model, range(4)) # 4 is the number of CPUs\n",
    "models = jobs.get()\n",
    "statistic = gelman_rubin(models)"
   ]
  },
  {
   "cell_type": "code",
   "execution_count": 127,
   "metadata": {},
   "outputs": [
    {
     "name": "stdout",
     "output_type": "stream",
     "text": [
      "1.0043100388161659\n"
     ]
    }
   ],
   "source": [
    "import numpy as np\n",
    "allStatValues = statistic.values()\n",
    "print(np.max(allStatValues))"
   ]
  },
  {
   "cell_type": "code",
   "execution_count": 150,
   "metadata": {},
   "outputs": [],
   "source": [
    "m = models[3]"
   ]
  },
  {
   "cell_type": "markdown",
   "metadata": {},
   "source": [
    "## Model parameters"
   ]
  },
  {
   "cell_type": "code",
   "execution_count": 9,
   "metadata": {},
   "outputs": [
    {
     "name": "stdout",
     "output_type": "stream",
     "text": [
      "                       mean         std         2.5q          25q          50q         75q        97.5q       mc err\n",
      "a                   1.88958   0.0766051      1.74822      1.83808      1.88785     1.93597      2.04846   0.00111051\n",
      "a_std              0.283121   0.0638813     0.185693     0.237905      0.27332    0.317619     0.438028  0.000984291\n",
      "a_subj.1            1.87849   0.0609694      1.76641      1.83566      1.87702     1.91926      2.00202  0.000981664\n",
      "a_subj.2             2.1459   0.0628071      2.02699      2.10202       2.1446      2.1873      2.26973  0.000871788\n",
      "a_subj.3            1.80097   0.0561779      1.69496       1.7627      1.79974     1.83805      1.91646   0.00068476\n",
      "a_subj.4            1.89718    0.058308      1.79006      1.85658      1.89516     1.93522      2.01755  0.000843756\n",
      "a_subj.5            2.33776   0.0870214      2.17204      2.27935      2.33511      2.3947      2.51535   0.00128132\n",
      "a_subj.6            1.35872   0.0392885      1.28421      1.33115      1.35802     1.38527      1.43745  0.000532833\n",
      "a_subj.7            1.92561   0.0610256      1.80905      1.88343      1.92527     1.96636       2.0481   0.00073701\n",
      "a_subj.8            1.66575   0.0500525      1.57324      1.63138      1.66473     1.69871      1.76638   0.00071516\n",
      "a_subj.9            1.85153   0.0545049       1.7486      1.81375      1.85058     1.88846      1.95815  0.000840579\n",
      "a_subj.10           2.05374   0.0647976       1.9327      2.00833      2.05325     2.09776       2.1794  0.000986591\n",
      "a_subj.11           2.11354    0.074137      1.97358      2.06448      2.11041      2.1612       2.2662   0.00123377\n",
      "a_subj.12           1.99306   0.0579536      1.88128      1.95336      1.99146     2.03151      2.11124  0.000776708\n",
      "a_subj.13           1.85257   0.0559202      1.74706      1.81414      1.85218     1.88942      1.96376  0.000858973\n",
      "a_subj.14           1.87452   0.0533827       1.7716      1.83753      1.87454     1.91017      1.97978  0.000790441\n",
      "a_subj.16           1.53191   0.0434156      1.44839       1.5015      1.53177     1.56172      1.61953  0.000596279\n",
      "t                  0.681442   0.0298566      0.62433     0.662196     0.681233    0.699686     0.744378  0.000378193\n",
      "t_std              0.113525   0.0248354    0.0769073    0.0961396     0.109708    0.126108     0.172526  0.000378342\n",
      "t_subj.1           0.646716   0.0115855     0.621075     0.639571     0.647826    0.655028     0.666325  0.000200149\n",
      "t_subj.2           0.695456   0.0143683     0.662829     0.686844      0.69708    0.705599     0.719093  0.000231018\n",
      "t_subj.3           0.489428  0.00883924     0.470186     0.483826     0.490182    0.495764     0.504377  0.000124016\n",
      "t_subj.4           0.736649   0.0101332     0.713674     0.730484     0.737786    0.743855      0.75337  0.000154385\n",
      "t_subj.5           0.666559   0.0191051     0.623476      0.65508     0.668709    0.680095     0.697967  0.000282442\n",
      "t_subj.6           0.661658  0.00563612     0.648991     0.658279     0.662182    0.665724     0.671014  8.03324e-05\n",
      "t_subj.7           0.576313    0.010541     0.552857     0.569945     0.577132    0.583905      0.59366  0.000147823\n",
      "t_subj.8           0.611707  0.00880543     0.592109     0.606493     0.612607    0.617926     0.626518  0.000150093\n",
      "t_subj.9           0.718813   0.0104061     0.695821     0.712433     0.719779     0.72615     0.736567  0.000177546\n",
      "t_subj.10          0.939222    0.012448     0.912079      0.93176     0.940511    0.948159      0.96003  0.000175525\n",
      "t_subj.11          0.653965   0.0156477     0.621139     0.644232     0.655239    0.664892     0.681412  0.000305987\n",
      "t_subj.12          0.790919   0.0150056      0.75964     0.781405     0.791746    0.801633     0.817037  0.000239387\n",
      "t_subj.13          0.593578  0.00870143     0.574141     0.588327     0.594444    0.599862      0.60808  0.000126433\n",
      "t_subj.14          0.755709  0.00921219     0.734975     0.750141     0.756701    0.762269     0.771023  0.000140768\n",
      "t_subj.16          0.686002  0.00604847     0.672166     0.682475     0.686646    0.690233     0.696333   9.1449e-05\n",
      "z                  0.499831  0.00967562     0.480861     0.493364     0.499656    0.506386     0.519053  0.000216967\n",
      "z_std              0.108441    0.027067    0.0563862      0.09034     0.108127    0.126202     0.162628  0.000936062\n",
      "z_subj.1           0.520588   0.0198047      0.48336     0.507041     0.520093    0.533557     0.561338  0.000404301\n",
      "z_subj.2           0.465531   0.0201271     0.425701     0.452179     0.465868    0.479532      0.50421  0.000448972\n",
      "z_subj.3           0.486449    0.019391      0.44694     0.473847     0.486524    0.499271     0.524318  0.000344198\n",
      "z_subj.4           0.472137   0.0195493     0.432754     0.459032     0.472609    0.485779      0.50821  0.000417489\n",
      "z_subj.5           0.504368    0.020851     0.463017     0.490644     0.504354    0.518209     0.545304  0.000325046\n",
      "z_subj.6           0.494003   0.0175967     0.458733     0.482289     0.494079    0.505895     0.528699  0.000253396\n",
      "z_subj.7           0.507182   0.0187271     0.471255     0.494305     0.506863    0.519819     0.544464  0.000347606\n",
      "z_subj.8           0.514926   0.0185485     0.479627      0.50208     0.515035     0.52742     0.551258   0.00036882\n",
      "z_subj.9           0.462482   0.0204684     0.420658     0.448778     0.463358    0.476765     0.500054  0.000523016\n",
      "z_subj.10          0.520929   0.0201715     0.483903     0.506703     0.520283    0.534315     0.561748  0.000431151\n",
      "z_subj.11          0.526562   0.0209022     0.487499     0.511883     0.525992    0.540261     0.569332  0.000547785\n",
      "z_subj.12          0.531059   0.0199465       0.4943     0.517065     0.530263    0.544134     0.571183  0.000467086\n",
      "z_subj.13           0.46945   0.0200958     0.428589      0.45599     0.470088    0.483228     0.507265  0.000405291\n",
      "z_subj.14          0.527663   0.0190596     0.491808      0.51436     0.527083    0.540487     0.566162  0.000401656\n",
      "z_subj.16           0.49476   0.0176967     0.459399     0.483106      0.49482    0.506667     0.528643  0.000258272\n",
      "v_gain         -0.000302517  0.00385185  -0.00788916  -0.00277833 -0.000321672   0.0021908   0.00747172  7.91644e-05\n",
      "v_gain_std        0.0131142  0.00334096   0.00807277    0.0108006     0.012613   0.0148988    0.0211222   8.0162e-05\n",
      "v_gain_subj.1     0.0143129  0.00537976     0.003499     0.010659    0.0144577   0.0179451    0.0244296    0.0001718\n",
      "v_gain_subj.2    -0.0114622  0.00438807   -0.0202192   -0.0143058   -0.0114778 -0.00853606  -0.00276045  0.000133639\n",
      "v_gain_subj.3    -0.0143853  0.00545732   -0.0252572   -0.0181027   -0.0144198  -0.0106784  -0.00383377  0.000157835\n",
      "v_gain_subj.4    -0.0097492  0.00533275   -0.0202484   -0.0133124  -0.00968118   -0.006125  0.000562012  0.000166507\n",
      "v_gain_subj.5   -0.00676845  0.00483628   -0.0160128   -0.0100008  -0.00689754  -0.0035055   0.00291101  0.000118812\n",
      "v_gain_subj.6   -0.00150359  0.00596353   -0.0132894  -0.00545549  -0.00139081  0.00245246   0.00983392  0.000125967\n",
      "v_gain_subj.7     0.0117716  0.00514802   0.00182451    0.0081981      0.01173   0.0153363     0.021753  0.000142739\n",
      "v_gain_subj.8     0.0114487  0.00564695  0.000387164   0.00759989     0.011399   0.0152618    0.0225685  0.000164311\n",
      "v_gain_subj.9   -0.00672411  0.00497062   -0.0164337   -0.0100557  -0.00680623 -0.00333893   0.00320394  0.000151914\n",
      "v_gain_subj.10    0.0130961  0.00487648   0.00362184   0.00986389    0.0130555   0.0163157    0.0228713  0.000140412\n",
      "v_gain_subj.11    0.0156333  0.00488538   0.00597509    0.0123996    0.0156503   0.0189155    0.0250285  0.000151017\n",
      "v_gain_subj.12 -0.000574489  0.00461796  -0.00967166  -0.00362157 -0.000584053  0.00246614   0.00869678   0.00011315\n",
      "v_gain_subj.13   -0.0057945  0.00527619   -0.0164429  -0.00929364  -0.00580759 -0.00226379   0.00452212  0.000165193\n",
      "v_gain_subj.14    -0.014588  0.00517699   -0.0247831   -0.0181872   -0.0145457  -0.0110183  -0.00454623  0.000151456\n",
      "v_gain_subj.16   0.00123434  0.00550468  -0.00937135  -0.00253813   0.00122687  0.00496638    0.0119399   0.00014406\n",
      "v_loss          -0.00651434  0.00680201   -0.0201673   -0.0109426  -0.00652103 -0.00223537   0.00698507  0.000139168\n",
      "v_loss_std        0.0225116  0.00627818     0.012701    0.0181041    0.0217018   0.0260218    0.0374679  0.000182748\n",
      "v_loss_subj.1    -0.0344416   0.0110727   -0.0563209    -0.041737   -0.0343385  -0.0268527    -0.013552  0.000357659\n",
      "v_loss_subj.2    0.00219164  0.00854601    -0.014648  -0.00344748   0.00220997  0.00780078    0.0195765  0.000257045\n",
      "v_loss_subj.3     0.0185487   0.0108637  -0.00237009    0.0112691    0.0183067   0.0259631    0.0403032  0.000308598\n",
      "v_loss_subj.4     0.0183049   0.0104624  -0.00240291    0.0112128    0.0184342   0.0256475    0.0383422   0.00032662\n",
      "v_loss_subj.5    0.00614152  0.00949981   -0.0120942 -0.000375053   0.00596231   0.0124923    0.0247604  0.000230779\n",
      "v_loss_subj.6   -0.00567722   0.0116474   -0.0286389   -0.0135205  -0.00533557  0.00241898    0.0165984  0.000263728\n",
      "v_loss_subj.7    -0.0232867    0.010178   -0.0435406   -0.0302785   -0.0231958  -0.0162195  -0.00369482  0.000280044\n",
      "v_loss_subj.8    -0.0197919   0.0109467   -0.0415497   -0.0270428   -0.0197795   -0.012357  0.000950421  0.000314194\n",
      "v_loss_subj.9     0.0126379  0.00984291  -0.00683973   0.00617093    0.0125305   0.0190494    0.0324804  0.000306544\n",
      "v_loss_subj.10   -0.0181415  0.00946965   -0.0366021    -0.024337   -0.0181176  -0.0118559   0.00102345  0.000266614\n",
      "v_loss_subj.11    -0.029139  0.00975096   -0.0483252   -0.0356861   -0.0290151  -0.0225464   -0.0103263   0.00030491\n",
      "v_loss_subj.12    -0.013498  0.00963517   -0.0329821   -0.0198924   -0.0134012 -0.00706381    0.0054055  0.000237059\n",
      "v_loss_subj.13     0.017672   0.0103544  -0.00274061    0.0105563    0.0177195   0.0247612    0.0378516  0.000327291\n",
      "v_loss_subj.14   -0.0208376   0.0100193    -0.040106   -0.0276663   -0.0208582  -0.0140892  -0.00148336  0.000303753\n",
      "v_loss_subj.16   -0.0085029   0.0106898   -0.0295241   -0.0157613  -0.00860954 -0.00113008    0.0123544  0.000273915\n",
      "DIC: 8324.236240\n",
      "deviance: 8261.274907\n",
      "pD: 62.961333\n"
     ]
    }
   ],
   "source": [
    "m.print_stats()"
   ]
  },
  {
   "cell_type": "markdown",
   "metadata": {},
   "source": [
    "$\\lambda$"
   ]
  },
  {
   "cell_type": "code",
   "execution_count": 151,
   "metadata": {},
   "outputs": [],
   "source": [
    "import numpy as np"
   ]
  },
  {
   "cell_type": "code",
   "execution_count": 152,
   "metadata": {},
   "outputs": [
    {
     "name": "stdout",
     "output_type": "stream",
     "text": [
      "('group level mean of lamdba is: ', -7.899067580853258)\n",
      "('2.5% percentile for beta_L: ', -0.02010217778937591)\n",
      "('97.5% percentile for beta_G: ', 0.005873033877337634)\n"
     ]
    }
   ],
   "source": [
    "modelParamsDF = m.nodes_db\n",
    "# modelParamsDF.to_csv(\"fullModel_params.csv\")\n",
    "\n",
    "# group level mean of lambda\n",
    "groupLevelMeanOfLambda = modelParamsDF.loc['v_loss', 'mean']/modelParamsDF.loc['v_gain', 'mean']\n",
    "print(\"group level mean of lamdba is: \", groupLevelMeanOfLambda)\n",
    "\n",
    "# 95% CI for beta_G, beta_L\n",
    "print(\"2.5% percentile for beta_L: \", modelParamsDF.loc['v_loss', '2.5q'])\n",
    "print(\"97.5% percentile for beta_G: \", modelParamsDF.loc['v_gain', '97.5q'])"
   ]
  },
  {
   "cell_type": "code",
   "execution_count": 153,
   "metadata": {},
   "outputs": [
    {
     "name": "stdout",
     "output_type": "stream",
     "text": [
      "[1, 2, 3, 4, 5, 6, 7, 8, 9, 10, 11, 12, 13, 14, 16]\n",
      "15\n"
     ]
    }
   ],
   "source": [
    "allSubjectsIndex = list(set(data['subj_idx']))\n",
    "print(allSubjectsIndex)\n",
    "totalNumSubjects = len(allSubjectsIndex)\n",
    "print(totalNumSubjects)"
   ]
  },
  {
   "cell_type": "code",
   "execution_count": 154,
   "metadata": {},
   "outputs": [
    {
     "name": "stdout",
     "output_type": "stream",
     "text": [
      "('Number of people with beta_L > beta_G = ', 0)\n",
      "Average lambda over all individuals = 136.179802852 (564.244373755)\n"
     ]
    }
   ],
   "source": [
    "# how many participants have beta_L > beta_G, how many have the 95% CI greater?\n",
    "# participant level mean (SD) of lambda\n",
    "numLambdaMean = 0\n",
    "numLambdaCI = 0\n",
    "allParticipantLambdas = []\n",
    "\n",
    "for subjectIndex in allSubjectsIndex:\n",
    "    beta_gain = modelParamsDF.loc['v_gain_subj.{}'.format(subjectIndex), 'mean']\n",
    "    beta_loss = modelParamsDF.loc['v_loss_subj.{}'.format(subjectIndex), 'mean']\n",
    "    beta_L_lowerBound = modelParamsDF.loc['v_loss_subj.{}'.format(subjectIndex), '2.5q']\n",
    "    beta_G_upperBound = modelParamsDF.loc['v_gain_subj.{}'.format(subjectIndex), '97.5q']\n",
    "    \n",
    "    if beta_loss > beta_gain:\n",
    "        numLambdaMean += 1\n",
    "        \n",
    "    if beta_L_lowerBound > beta_G_upperBound:\n",
    "        numLambdaCI += 1\n",
    "        \n",
    "    lambdaForThisParticipant = beta_loss/beta_gain\n",
    "    allParticipantLambdas.append(lambdaForThisParticipant)\n",
    "\n",
    "print(\"Number of people with beta_L > beta_G = \", numLambdaMean)\n",
    "# print(\"Number of people with 95% CI of beta_L > beta_G = \", numLambdaCI)\n",
    "print(\"Average lambda over all individuals = {} ({})\".format(np.mean(allParticipantLambdas), np.std(allParticipantLambdas)))"
   ]
  },
  {
   "cell_type": "code",
   "execution_count": 157,
   "metadata": {},
   "outputs": [
    {
     "name": "stdout",
     "output_type": "stream",
     "text": [
      "[-44.49421147635589, -21.718767875999546, -7.856228389802341, -4.982515960001578, -55.792757253474285, -8.48453790175824, -5.096013297163748, -4.357788055221792, -7.7682681581984685, -3.5561686838348363, -5.456565012593484, -24.66247811337988, -3.692146603729867, 2246.602220865484, -5.986731299115682]\n"
     ]
    }
   ],
   "source": [
    "print(allParticipantLambdas)"
   ]
  },
  {
   "cell_type": "code",
   "execution_count": 156,
   "metadata": {},
   "outputs": [
    {
     "data": {
      "image/png": "[encoded data removed]",
      "text/plain": [
       "<Figure size 432x288 with 1 Axes>"
      ]
     },
     "metadata": {
      "needs_background": "light"
     },
     "output_type": "display_data"
    }
   ],
   "source": [
    "plt.hist(allParticipantLambdas)\n",
    "plt.show()"
   ]
  },
  {
   "cell_type": "code",
   "execution_count": 97,
   "metadata": {},
   "outputs": [
    {
     "name": "stdout",
     "output_type": "stream",
     "text": [
      "('beta_L mean:', -0.01004721860740195)\n",
      "('beta_L 2.5q:', -0.02013316992270589)\n",
      "('beta_L 97.5q:', -0.0006124675619055345)\n",
      "('beta_L median', -0.009941745387727052)\n",
      "('beta_L SD', 0.004869919844142778)\n",
      "('beta_G mean:', 0.001076173706467709)\n",
      "('beta_G 2.5q:', -0.0033744064068597104)\n",
      "('beta_G 97.5q:', 0.0054514041335700075)\n",
      "('beta_G median', 0.0010603645278543707)\n",
      "('beta_G SD', 0.0022051916629765526)\n"
     ]
    }
   ],
   "source": [
    "print(\"beta_L mean:\", modelParamsDF.loc['v_loss', 'mean'])\n",
    "print(\"beta_L 2.5q:\", modelParamsDF.loc['v_loss', '2.5q'])\n",
    "print(\"beta_L 97.5q:\", modelParamsDF.loc['v_loss', '97.5q'])\n",
    "print(\"beta_L median\", modelParamsDF.loc['v_loss', '50q'])\n",
    "print(\"beta_L SD\", modelParamsDF.loc['v_loss', 'std'])\n",
    "\n",
    "print(\"beta_G mean:\", modelParamsDF.loc['v_gain', 'mean'])\n",
    "print(\"beta_G 2.5q:\", modelParamsDF.loc['v_gain', '2.5q'])\n",
    "print(\"beta_G 97.5q:\", modelParamsDF.loc['v_gain', '97.5q'])\n",
    "print(\"beta_G median\", modelParamsDF.loc['v_gain', '50q'])\n",
    "print(\"beta_G SD\", modelParamsDF.loc['v_gain', 'std'])"
   ]
  },
  {
   "cell_type": "markdown",
   "metadata": {},
   "source": [
    "$\\gamma$"
   ]
  },
  {
   "cell_type": "code",
   "execution_count": 98,
   "metadata": {},
   "outputs": [
    {
     "name": "stdout",
     "output_type": "stream",
     "text": [
      "('mean value of threshold: ', 1.8941146627954248)\n",
      "('confidence interval of gamma: ', -0.028283342026764698, 0.03303457666760628)\n"
     ]
    }
   ],
   "source": [
    "meanA = modelParamsDF.loc['a', 'mean']\n",
    "print(\"mean value of threshold: \", meanA)\n",
    "\n",
    "# 95 CI interval\n",
    "Z_CI_lowerBound = (modelParamsDF.loc['z'.format(subjectIndex), '2.5q'] - 0.5)*meanA\n",
    "Z_CI_upperBound = (modelParamsDF.loc['z'.format(subjectIndex), '97.5q'] - 0.5)*meanA\n",
    "print(\"confidence interval of gamma: \", Z_CI_lowerBound, Z_CI_upperBound)"
   ]
  },
  {
   "cell_type": "code",
   "execution_count": 99,
   "metadata": {},
   "outputs": [
    {
     "name": "stdout",
     "output_type": "stream",
     "text": [
      "Mean value of pre-valuation bias across all participants: 0.00195705780741 (0.0211589470016)\n",
      "('Number of participants with negative gamma: ', 7)\n",
      "('Number of participants with 95% CI of gamma negative: ', 0)\n"
     ]
    }
   ],
   "source": [
    "# mean gamma across all participants, how many participants have 95% CI of gamma strictly negative\n",
    "allParticipantsZ = []\n",
    "countGammaMean = 0\n",
    "countGammaCI = 0\n",
    "\n",
    "for participantIndex in allSubjectsIndex:\n",
    "    a_participant = modelParamsDF.loc['a_subj.{}'.format(participantIndex), 'mean']\n",
    "    z_participant = (modelParamsDF.loc['z_subj.{}'.format(participantIndex), 'mean'] - 0.5)*meanA\n",
    "    allParticipantsZ.append(z_participant)\n",
    "    z_upperBound_participant = (modelParamsDF.loc['z_subj.{}'.format(participantIndex), '97.5q'] - 0.5)*meanA\n",
    "    \n",
    "    if z_upperBound_participant < 0:\n",
    "        countGammaCI += 1\n",
    "        \n",
    "    if z_participant < 0:\n",
    "        countGammaMean += 1\n",
    "    \n",
    "mean_Z = np.mean(allParticipantsZ)\n",
    "SD_Z = np.std(allParticipantsZ)\n",
    "print(\"Mean value of pre-valuation bias across all participants: {} ({})\".format(mean_Z, SD_Z))\n",
    "print(\"Number of participants with negative gamma: \", countGammaMean)\n",
    "print(\"Number of participants with 95% CI of gamma negative: \", countGammaCI)"
   ]
  },
  {
   "cell_type": "code",
   "execution_count": 100,
   "metadata": {},
   "outputs": [
    {
     "name": "stdout",
     "output_type": "stream",
     "text": [
      "('gamma mean:', 0.0018764184120393108)\n",
      "('gamma 2.5q:', -0.028283342026764698)\n",
      "('gamma 97.5q:', 0.03303457666760628)\n",
      "('gamma median', 0.0016134404591002266)\n",
      "('gamma SD', 0.015689254746597093)\n"
     ]
    }
   ],
   "source": [
    "print(\"gamma mean:\", (modelParamsDF.loc['z', 'mean'] - 0.5)*meanA)\n",
    "print(\"gamma 2.5q:\", (modelParamsDF.loc['z', '2.5q'] - 0.5)*meanA)\n",
    "print(\"gamma 97.5q:\", (modelParamsDF.loc['z', '97.5q'] - 0.5)*meanA)\n",
    "print(\"gamma median\", (modelParamsDF.loc['z', '50q'] - 0.5)*meanA)\n",
    "print(\"gamma SD\", (modelParamsDF.loc['z', 'std'])*meanA)"
   ]
  },
  {
   "cell_type": "markdown",
   "metadata": {},
   "source": [
    "$\\alpha$"
   ]
  },
  {
   "cell_type": "code",
   "execution_count": 101,
   "metadata": {},
   "outputs": [
    {
     "name": "stdout",
     "output_type": "stream",
     "text": [
      "('Group-level mean of alpha is: ', -0.08253254674419895)\n",
      "Mean value of fixed utility bias across all participants: -0.0870938923676 (0.534555792664)\n",
      "('Number of participants with negative alpha: ', 9)\n",
      "('Number of participants with 95% CI of alpha negative: ', 6)\n"
     ]
    }
   ],
   "source": [
    "# group-level mean\n",
    "print(\"Group-level mean of alpha is: \", modelParamsDF.loc['v_Intercept'.format(subjectIndex), 'mean'])\n",
    "\n",
    "# how many participants have mean and 95% CI negative?\n",
    "allParticipantsAlphas = []\n",
    "countAlphaMean = 0\n",
    "countAlphaCI = 0\n",
    "\n",
    "for participantIndex in allSubjectsIndex:\n",
    "    alpha_participant = modelParamsDF.loc['v_Intercept_subj.{}'.format(participantIndex), 'mean']\n",
    "    allParticipantsAlphas.append(alpha_participant)\n",
    "    alpha_upperBound_participant = modelParamsDF.loc['v_Intercept_subj.{}'.format(participantIndex), '97.5q']\n",
    "    \n",
    "    if alpha_upperBound_participant < 0:\n",
    "        countAlphaCI += 1\n",
    "        \n",
    "    if alpha_participant < 0:\n",
    "        countAlphaMean += 1\n",
    "        \n",
    "mean_alpha = np.mean(allParticipantsAlphas)\n",
    "SD_alpha = np.std(allParticipantsAlphas)\n",
    "print(\"Mean value of fixed utility bias across all participants: {} ({})\".format(mean_alpha, SD_alpha))\n",
    "print(\"Number of participants with negative alpha: \", countAlphaMean)\n",
    "print(\"Number of participants with 95% CI of alpha negative: \", countAlphaCI)"
   ]
  },
  {
   "cell_type": "code",
   "execution_count": 102,
   "metadata": {},
   "outputs": [
    {
     "name": "stdout",
     "output_type": "stream",
     "text": [
      "('alpha mean:', -0.08253254674419895)\n",
      "('alpha 2.5q:', -0.4425260452473132)\n",
      "('alpha 97.5q:', 0.27206137026772825)\n",
      "('alpha median', -0.08216422433033622)\n",
      "('alpha SD', 0.181148768594707)\n"
     ]
    }
   ],
   "source": [
    "print(\"alpha mean:\", modelParamsDF.loc['v_Intercept', 'mean'])\n",
    "print(\"alpha 2.5q:\", modelParamsDF.loc['v_Intercept', '2.5q'])\n",
    "print(\"alpha 97.5q:\", modelParamsDF.loc['v_Intercept', '97.5q'])\n",
    "print(\"alpha median\", modelParamsDF.loc['v_Intercept', '50q'])\n",
    "print(\"alpha SD\", modelParamsDF.loc['v_Intercept', 'std'])"
   ]
  },
  {
   "cell_type": "markdown",
   "metadata": {},
   "source": [
    "# Correlation with rejection rates"
   ]
  },
  {
   "cell_type": "code",
   "execution_count": 158,
   "metadata": {},
   "outputs": [
    {
     "data": {
      "text/plain": [
       "array([0.85098039, 0.29508197, 0.23622047, 0.24497992, 0.37086093,\n",
       "       0.5       , 0.75423729, 0.71713147, 0.32142857, 0.77865613,\n",
       "       0.85826772, 0.60816327, 0.29803922, 0.468     , 0.53125   ])"
      ]
     },
     "execution_count": 158,
     "metadata": {},
     "output_type": "execute_result"
    }
   ],
   "source": [
    "def getPAcceptFromSubjectIndex(subjectIndex):\n",
    "    subjectResponses = np.array(data.loc[data['subj_idx'] == subjectIndex]['response'])\n",
    "    return np.mean(subjectResponses)\n",
    "\n",
    "allParticipants_p_accept = np.array([getPAcceptFromSubjectIndex(subjectIndex) for subjectIndex in allSubjectsIndex])\n",
    "allParticipants_p_accept"
   ]
  },
  {
   "cell_type": "code",
   "execution_count": 159,
   "metadata": {},
   "outputs": [],
   "source": [
    "from scipy.stats.stats import pearsonr\n",
    "import seaborn as sns\n",
    "from matplotlib import pyplot as plt"
   ]
  },
  {
   "cell_type": "code",
   "execution_count": 160,
   "metadata": {},
   "outputs": [
    {
     "name": "stdout",
     "output_type": "stream",
     "text": [
      "('Pearson correlation between Lambda and P(Acceptance) is: ', (-0.06708395696020988, 0.8122367295646191))\n"
     ]
    },
    {
     "data": {
      "image/png": "[encoded data removed]",
      "text/plain": [
       "<Figure size 432x288 with 1 Axes>"
      ]
     },
     "metadata": {
      "needs_background": "light"
     },
     "output_type": "display_data"
    }
   ],
   "source": [
    "sns.regplot(allParticipantLambdas, allParticipants_p_accept, color ='blue')\n",
    "plt.xlabel(\"lambda\")\n",
    "plt.ylabel(\"P(Accept)\")\n",
    "print(\"Pearson correlation between Lambda and P(Acceptance) is: \", pearsonr(allParticipantLambdas, allParticipants_p_accept))"
   ]
  },
  {
   "cell_type": "code",
   "execution_count": 161,
   "metadata": {},
   "outputs": [
    {
     "name": "stdout",
     "output_type": "stream",
     "text": [
      "('Pearson correlation between gamma and P(Acceptance) is: ', (0.5978674919336018, 0.018572749697774886))\n"
     ]
    },
    {
     "data": {
      "image/png": "[encoded data removed]",
      "text/plain": [
       "<Figure size 432x288 with 1 Axes>"
      ]
     },
     "metadata": {
      "needs_background": "light"
     },
     "output_type": "display_data"
    }
   ],
   "source": [
    "sns.regplot(allParticipantsZ, allParticipants_p_accept, color ='blue')\n",
    "plt.xlabel(\"gamma\")\n",
    "plt.ylabel(\"P(Accept)\")\n",
    "print(\"Pearson correlation between gamma and P(Acceptance) is: \", pearsonr(allParticipantsZ, allParticipants_p_accept))"
   ]
  },
  {
   "cell_type": "code",
   "execution_count": 162,
   "metadata": {},
   "outputs": [
    {
     "name": "stdout",
     "output_type": "stream",
     "text": [
      "('Pearson correlation between alpha and P(Acceptance) is: ', (0.9869751160200148, 1.0612877039064082e-11))\n"
     ]
    },
    {
     "data": {
      "image/png": "[encoded data removed]",
      "text/plain": [
       "<Figure size 432x288 with 1 Axes>"
      ]
     },
     "metadata": {
      "needs_background": "light"
     },
     "output_type": "display_data"
    }
   ],
   "source": [
    "sns.regplot(allParticipantsAlphas, allParticipants_p_accept, color ='blue')\n",
    "plt.xlabel(\"alpha\")\n",
    "plt.ylabel(\"P(Accept)\")\n",
    "print(\"Pearson correlation between alpha and P(Acceptance) is: \", pearsonr(allParticipantsAlphas, allParticipants_p_accept))"
   ]
  },
  {
   "cell_type": "markdown",
   "metadata": {},
   "source": [
    "# Correlation with lambda (traditional method -- computed using logistic regression)"
   ]
  },
  {
   "cell_type": "code",
   "execution_count": 163,
   "metadata": {},
   "outputs": [],
   "source": [
    "import matplotlib\n",
    "matplotlib.rcParams.update({'font.size': 30})"
   ]
  },
  {
   "cell_type": "code",
   "execution_count": 164,
   "metadata": {},
   "outputs": [],
   "source": [
    "from sklearn.linear_model import LogisticRegression\n",
    "allSubjectsIndex = np.array(allSubjectsIndex)\n",
    "indicesToAnalyze = allSubjectsIndex[allParticipants_p_accept[:] != 0]\n",
    "\n",
    "def computeParticipantLambdaLR(subjectIndex):\n",
    "    participantData = data[data['subj_idx'] == subjectIndex]\n",
    "    X = participantData[['gain', 'loss']]\n",
    "    y = participantData['response']\n",
    "    classifier = LogisticRegression(C=1e5).fit(X, y)\n",
    "    coefficients = classifier.coef_\n",
    "    participantLambdaLR = coefficients[0][1]/coefficients[0][0]\n",
    "    return participantLambdaLR\n",
    "\n",
    "allParticipantLambdasLR = [computeParticipantLambdaLR(_) for _ in indicesToAnalyze]"
   ]
  },
  {
   "cell_type": "code",
   "execution_count": 165,
   "metadata": {},
   "outputs": [
    {
     "name": "stdout",
     "output_type": "stream",
     "text": [
      "lambda LR min: 0.989935285484, max: 7.03334914619, median: 1.93423091329\n",
      "15\n"
     ]
    }
   ],
   "source": [
    "print('lambda LR min: {}, max: {}, median: {}'.format(np.min(allParticipantLambdasLR), np.max(allParticipantLambdasLR), np.median(allParticipantLambdasLR)))\n",
    "print(len(allParticipantLambdasLR))"
   ]
  },
  {
   "cell_type": "code",
   "execution_count": 166,
   "metadata": {},
   "outputs": [
    {
     "name": "stdout",
     "output_type": "stream",
     "text": [
      "[0.9899352854840588, 3.453305801759754, 7.033349146194107, 2.660130234939878, 2.665169272704418, 1.4177859538286908, 1.3983864066361502, 1.1293814260736712, 2.3637835822539737, 1.084978076798603, 1.1126526770859366, 1.9342309132896187, 1.938842374657405, 2.6021258708831616, 1.683946730216291]\n"
     ]
    }
   ],
   "source": [
    "print(allParticipantLambdasLR)"
   ]
  },
  {
   "cell_type": "code",
   "execution_count": 167,
   "metadata": {},
   "outputs": [
    {
     "name": "stdout",
     "output_type": "stream",
     "text": [
      "Lambda computed using logistic regression, mean: 2.23120025019, SD: 1.46582717539\n"
     ]
    }
   ],
   "source": [
    "print(\"Lambda computed using logistic regression, mean: {}, SD: {}\".format(np.mean(allParticipantLambdasLR), np.std(allParticipantLambdasLR)))"
   ]
  },
  {
   "cell_type": "code",
   "execution_count": 168,
   "metadata": {},
   "outputs": [
    {
     "data": {
      "text/plain": [
       "(array([0., 1., 5., 3., 1., 3., 1., 0., 0.]),\n",
       " array([0. , 0.5, 1. , 1.5, 2. , 2.5, 3. , 3.5, 4. , 4.5]),\n",
       " <a list of 9 Patch objects>)"
      ]
     },
     "execution_count": 168,
     "metadata": {},
     "output_type": "execute_result"
    },
    {
     "data": {
      "image/png": "[encoded data removed]",
      "text/plain": [
       "<Figure size 432x288 with 1 Axes>"
      ]
     },
     "metadata": {
      "needs_background": "light"
     },
     "output_type": "display_data"
    }
   ],
   "source": [
    "from matplotlib import pyplot as plt\n",
    "plt.xticks(np.arange(0, 5, 0.5))\n",
    "plt.hist(allParticipantLambdasLR, np.arange(0, 5, 0.5))"
   ]
  },
  {
   "cell_type": "code",
   "execution_count": 169,
   "metadata": {},
   "outputs": [
    {
     "name": "stdout",
     "output_type": "stream",
     "text": [
      "('Pearson correlation between P(accept) and Logistic regression lambda is: ', (-0.6914317915463566, 0.004301613643063369))\n"
     ]
    },
    {
     "data": {
      "image/png": "[encoded data removed]",
      "text/plain": [
       "<Figure size 432x288 with 1 Axes>"
      ]
     },
     "metadata": {
      "needs_background": "light"
     },
     "output_type": "display_data"
    }
   ],
   "source": [
    "# fig=plt.figure(figsize=(8,8), dpi= 100, facecolor='w', edgecolor='k')\n",
    "# pAcceptToCorrelate = np.array(allParticipants_p_accept)[indicesToAnalyze]\n",
    "sns.regplot(allParticipants_p_accept, allParticipantLambdasLR, color ='blue')\n",
    "plt.xlabel(\"P(accept)\")\n",
    "plt.ylabel(\"Logistic regression lambda\")\n",
    "print(\"Pearson correlation between P(accept) and Logistic regression lambda is: \", pearsonr(allParticipants_p_accept, allParticipantLambdasLR))"
   ]
  },
  {
   "cell_type": "code",
   "execution_count": 170,
   "metadata": {},
   "outputs": [
    {
     "name": "stdout",
     "output_type": "stream",
     "text": [
      "('Pearson correlation between DDM lambda and Logistic regression lambda is: ', (0.06728120328576342, 0.8116937648868648))\n"
     ]
    },
    {
     "data": {
      "image/png": "[encoded data removed]",
      "text/plain": [
       "<Figure size 432x288 with 1 Axes>"
      ]
     },
     "metadata": {
      "needs_background": "light"
     },
     "output_type": "display_data"
    }
   ],
   "source": [
    "# fig=plt.figure(figsize=(8,8), dpi= 100, facecolor='w', edgecolor='k')\n",
    "# lambdasToCorrelate = np.array(allParticipantLambdas)[indicesToAnalyze]\n",
    "sns.regplot(allParticipantLambdas, allParticipantLambdasLR, color ='blue')\n",
    "plt.xlabel(r\"$\\lambda_{DDM}$\")\n",
    "plt.ylabel(r\"$\\lambda_{LR}$\")\n",
    "print(\"Pearson correlation between DDM lambda and Logistic regression lambda is: \", pearsonr(allParticipantLambdas, allParticipantLambdasLR))"
   ]
  },
  {
   "cell_type": "code",
   "execution_count": 171,
   "metadata": {},
   "outputs": [
    {
     "name": "stdout",
     "output_type": "stream",
     "text": [
      "('Pearson correlation between gamma and Logistic regression lambda is: ', (-0.23011933664031847, 0.4093209190093247))\n"
     ]
    },
    {
     "data": {
      "image/png": "[encoded data removed]",
      "text/plain": [
       "<Figure size 432x288 with 1 Axes>"
      ]
     },
     "metadata": {
      "needs_background": "light"
     },
     "output_type": "display_data"
    }
   ],
   "source": [
    "# fig=plt.figure(figsize=(8,8), dpi= 100, facecolor='w', edgecolor='k')\n",
    "# gammasToCorrelate = np.array(allParticipantsZ)[indicesToAnalyze]\n",
    "sns.regplot(allParticipantsZ, allParticipantLambdasLR, color ='blue')\n",
    "plt.xlabel(r\"$\\gamma$\")\n",
    "plt.ylabel(r\"$\\lambda_{LR}$\")\n",
    "print(\"Pearson correlation between gamma and Logistic regression lambda is: \", pearsonr(allParticipantsZ, allParticipantLambdasLR))"
   ]
  },
  {
   "cell_type": "code",
   "execution_count": 172,
   "metadata": {
    "scrolled": true
   },
   "outputs": [
    {
     "name": "stdout",
     "output_type": "stream",
     "text": [
      "('Pearson correlation between alpha and Logistic regression lambda is: ', (-0.7128522404094629, 0.0028551136173619097))\n"
     ]
    },
    {
     "data": {
      "image/png": "[encoded data removed]",
      "text/plain": [
       "<Figure size 432x288 with 1 Axes>"
      ]
     },
     "metadata": {
      "needs_background": "light"
     },
     "output_type": "display_data"
    }
   ],
   "source": [
    "# fig=plt.figure(figsize=(8,8), dpi= 100, facecolor='w', edgecolor='k')\n",
    "# alphasToCorrelate = np.array(allParticipantsAlphas)[indicesToAnalyze]\n",
    "sns.regplot(allParticipantsAlphas, allParticipantLambdasLR, color ='blue')\n",
    "plt.xlabel(r\"$\\alpha$\")\n",
    "plt.ylabel(r\"$\\lambda_{LR}$\")\n",
    "print(\"Pearson correlation between alpha and Logistic regression lambda is: \", pearsonr(allParticipantsAlphas, allParticipantLambdasLR))"
   ]
  },
  {
   "cell_type": "code",
   "execution_count": null,
   "metadata": {},
   "outputs": [],
   "source": []
  }
 ],
 "metadata": {
  "kernelspec": {
   "display_name": "Python 2",
   "language": "python",
   "name": "python2"
  },
  "language_info": {
   "codemirror_mode": {
    "name": "ipython",
    "version": 2
   },
   "file_extension": ".py",
   "mimetype": "text/x-python",
   "name": "python",
   "nbconvert_exporter": "python",
   "pygments_lexer": "ipython2",
   "version": "2.7.16"
  }
 },
 "nbformat": 4,
 "nbformat_minor": 2
}
