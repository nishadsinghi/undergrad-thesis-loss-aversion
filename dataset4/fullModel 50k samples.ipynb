{
 "cells": [
  {
   "cell_type": "code",
   "execution_count": 1,
   "metadata": {},
   "outputs": [
    {
     "name": "stderr",
     "output_type": "stream",
     "text": [
      "/anaconda3/lib/python2.7/site-packages/IPython/parallel.py:13: ShimWarning: The `IPython.parallel` package has been deprecated since IPython 4.0. You should import from ipyparallel instead.\n",
      "  \"You should import from ipyparallel instead.\", ShimWarning)\n"
     ]
    }
   ],
   "source": [
    "import pandas as pd\n",
    "import hddm\n",
    "import numpy as np\n",
    "import os\n",
    "\n",
    "allSubjData = hddm.load_csv('data.csv', index_col=0)"
   ]
  },
  {
   "cell_type": "code",
   "execution_count": 2,
   "metadata": {
    "scrolled": true
   },
   "outputs": [
    {
     "data": {
      "text/html": [
       "<div>\n",
       "<style scoped>\n",
       "    .dataframe tbody tr th:only-of-type {\n",
       "        vertical-align: middle;\n",
       "    }\n",
       "\n",
       "    .dataframe tbody tr th {\n",
       "        vertical-align: top;\n",
       "    }\n",
       "\n",
       "    .dataframe thead th {\n",
       "        text-align: right;\n",
       "    }\n",
       "</style>\n",
       "<table border=\"1\" class=\"dataframe\">\n",
       "  <thead>\n",
       "    <tr style=\"text-align: right;\">\n",
       "      <th></th>\n",
       "      <th>subj_idx</th>\n",
       "      <th>response</th>\n",
       "      <th>rt</th>\n",
       "      <th>gain</th>\n",
       "      <th>loss</th>\n",
       "    </tr>\n",
       "  </thead>\n",
       "  <tbody>\n",
       "    <tr>\n",
       "      <th>1</th>\n",
       "      <td>1</td>\n",
       "      <td>1</td>\n",
       "      <td>1.793</td>\n",
       "      <td>18</td>\n",
       "      <td>-12</td>\n",
       "    </tr>\n",
       "    <tr>\n",
       "      <th>2</th>\n",
       "      <td>1</td>\n",
       "      <td>0</td>\n",
       "      <td>1.637</td>\n",
       "      <td>10</td>\n",
       "      <td>-15</td>\n",
       "    </tr>\n",
       "    <tr>\n",
       "      <th>3</th>\n",
       "      <td>1</td>\n",
       "      <td>1</td>\n",
       "      <td>1.316</td>\n",
       "      <td>34</td>\n",
       "      <td>-16</td>\n",
       "    </tr>\n",
       "    <tr>\n",
       "      <th>4</th>\n",
       "      <td>1</td>\n",
       "      <td>1</td>\n",
       "      <td>1.670</td>\n",
       "      <td>18</td>\n",
       "      <td>-5</td>\n",
       "    </tr>\n",
       "    <tr>\n",
       "      <th>5</th>\n",
       "      <td>1</td>\n",
       "      <td>1</td>\n",
       "      <td>1.232</td>\n",
       "      <td>26</td>\n",
       "      <td>-13</td>\n",
       "    </tr>\n",
       "  </tbody>\n",
       "</table>\n",
       "</div>"
      ],
      "text/plain": [
       "   subj_idx  response     rt  gain  loss\n",
       "1         1         1  1.793    18   -12\n",
       "2         1         0  1.637    10   -15\n",
       "3         1         1  1.316    34   -16\n",
       "4         1         1  1.670    18    -5\n",
       "5         1         1  1.232    26   -13"
      ]
     },
     "execution_count": 2,
     "metadata": {},
     "output_type": "execute_result"
    }
   ],
   "source": [
    "allSubjData.head()"
   ]
  },
  {
   "cell_type": "code",
   "execution_count": 7,
   "metadata": {},
   "outputs": [
    {
     "data": {
      "text/html": [
       "<div>\n",
       "<style scoped>\n",
       "    .dataframe tbody tr th:only-of-type {\n",
       "        vertical-align: middle;\n",
       "    }\n",
       "\n",
       "    .dataframe tbody tr th {\n",
       "        vertical-align: top;\n",
       "    }\n",
       "\n",
       "    .dataframe thead th {\n",
       "        text-align: right;\n",
       "    }\n",
       "</style>\n",
       "<table border=\"1\" class=\"dataframe\">\n",
       "  <thead>\n",
       "    <tr style=\"text-align: right;\">\n",
       "      <th></th>\n",
       "      <th>subj_idx</th>\n",
       "      <th>response</th>\n",
       "      <th>rt</th>\n",
       "      <th>gain</th>\n",
       "      <th>loss</th>\n",
       "    </tr>\n",
       "  </thead>\n",
       "  <tbody>\n",
       "    <tr>\n",
       "      <th>1</th>\n",
       "      <td>1</td>\n",
       "      <td>1</td>\n",
       "      <td>1.793</td>\n",
       "      <td>18</td>\n",
       "      <td>-12</td>\n",
       "    </tr>\n",
       "    <tr>\n",
       "      <th>2</th>\n",
       "      <td>1</td>\n",
       "      <td>0</td>\n",
       "      <td>1.637</td>\n",
       "      <td>10</td>\n",
       "      <td>-15</td>\n",
       "    </tr>\n",
       "    <tr>\n",
       "      <th>3</th>\n",
       "      <td>1</td>\n",
       "      <td>1</td>\n",
       "      <td>1.316</td>\n",
       "      <td>34</td>\n",
       "      <td>-16</td>\n",
       "    </tr>\n",
       "    <tr>\n",
       "      <th>4</th>\n",
       "      <td>1</td>\n",
       "      <td>1</td>\n",
       "      <td>1.670</td>\n",
       "      <td>18</td>\n",
       "      <td>-5</td>\n",
       "    </tr>\n",
       "    <tr>\n",
       "      <th>5</th>\n",
       "      <td>1</td>\n",
       "      <td>1</td>\n",
       "      <td>1.232</td>\n",
       "      <td>26</td>\n",
       "      <td>-13</td>\n",
       "    </tr>\n",
       "  </tbody>\n",
       "</table>\n",
       "</div>"
      ],
      "text/plain": [
       "   subj_idx  response     rt  gain  loss\n",
       "1         1         1  1.793    18   -12\n",
       "2         1         0  1.637    10   -15\n",
       "3         1         1  1.316    34   -16\n",
       "4         1         1  1.670    18    -5\n",
       "5         1         1  1.232    26   -13"
      ]
     },
     "execution_count": 7,
     "metadata": {},
     "output_type": "execute_result"
    }
   ],
   "source": [
    "data = allSubjData[allSubjData['subj_idx'] != 15]\n",
    "data.head()"
   ]
  },
  {
   "cell_type": "code",
   "execution_count": 8,
   "metadata": {},
   "outputs": [
    {
     "name": "stdout",
     "output_type": "stream",
     "text": [
      "Adding these covariates:\n",
      "['v_Intercept', 'v_gain', 'v_loss']\n"
     ]
    }
   ],
   "source": [
    "m = hddm.models.HDDMRegressor(data, ['v ~ gain + loss'], include=('z'), group_only_regressors=False)"
   ]
  },
  {
   "cell_type": "code",
   "execution_count": 6,
   "metadata": {
    "scrolled": false
   },
   "outputs": [
    {
     "name": "stderr",
     "output_type": "stream",
     "text": [
      "/anaconda3/lib/python2.7/site-packages/scipy/optimize/optimize.py:1934: RuntimeWarning: invalid value encountered in double_scalars\n",
      "  tmp2 = (x - v) * (fx - fw)\n",
      "/anaconda3/lib/python2.7/site-packages/scipy/optimize/optimize.py:1935: RuntimeWarning: invalid value encountered in double_scalars\n",
      "  p = (x - v) * tmp2 - (x - w) * tmp1\n"
     ]
    },
    {
     "name": "stdout",
     "output_type": "stream",
     "text": [
      "Warning: Powell optimization failed. Falling back to simplex.\n",
      "Warning: Powell optimization failed. Falling back to simplex.\n"
     ]
    },
    {
     "name": "stderr",
     "output_type": "stream",
     "text": [
      "\n",
      "KeyboardInterrupt\n",
      "\n"
     ]
    }
   ],
   "source": [
    "# m.find_starting_values()"
   ]
  },
  {
   "cell_type": "code",
   "execution_count": 10,
   "metadata": {},
   "outputs": [
    {
     "name": "stdout",
     "output_type": "stream",
     "text": [
      " [-----------------100%-----------------] 50001 of 50000 complete in 106543.2 sec"
     ]
    },
    {
     "data": {
      "text/plain": [
       "<pymc.MCMC.MCMC at 0x1a1a965690>"
      ]
     },
     "execution_count": 10,
     "metadata": {},
     "output_type": "execute_result"
    }
   ],
   "source": [
    "if not os.path.exists('savedModels/fullModel'):\n",
    "    os.makedirs('savedModels/fullModel')\n",
    "\n",
    "m.sample(50000, burn=25000, thin=2, dbname='savedModels/fullModel/db_fullModel_50k', db='pickle')"
   ]
  },
  {
   "cell_type": "code",
   "execution_count": 11,
   "metadata": {},
   "outputs": [
    {
     "name": "stdout",
     "output_type": "stream",
     "text": [
      "WARNING: Will not save custom link functions.\n"
     ]
    }
   ],
   "source": [
    "m.save('savedModels/fullModel/fullModel_50k')"
   ]
  },
  {
   "cell_type": "code",
   "execution_count": 125,
   "metadata": {},
   "outputs": [],
   "source": [
    "# def run_model(id):\n",
    "#     import pandas as pd\n",
    "#     import hddm\n",
    "#     import numpy as np\n",
    "#     import os\n",
    "\n",
    "#     allSubjData = hddm.load_csv('data.csv', index_col=0)    \n",
    "#     data = allSubjData[allSubjData['subj_idx'] != 15]\n",
    "    \n",
    "#     m = hddm.models.HDDMRegressor(data, ['v ~ gain + loss'], include=('z'), group_only_regressors=False)\n",
    "#     m.find_starting_values()\n",
    "#     m.sample(25000, burn=5000, dbname='savedModels/fullModel/db_fullModel_{}'.format(id), db='pickle')\n",
    "#     m.save('savedModels/fullModel/fullModel_{}'.format(id))\n",
    "    \n",
    "#     return m"
   ]
  },
  {
   "cell_type": "code",
   "execution_count": 126,
   "metadata": {},
   "outputs": [
    {
     "name": "stdout",
     "output_type": "stream",
     "text": [
      "WARNING: Custom link functions will not be loaded.\n",
      "WARNING: Custom link functions will not be loaded.\n",
      "WARNING: Custom link functions will not be loaded.\n",
      "WARNING: Custom link functions will not be loaded.\n"
     ]
    }
   ],
   "source": [
    "# from kabuki.analyze import gelman_rubin\n",
    "\n",
    "# from ipyparallel import Client\n",
    "# v = Client()[:]\n",
    "# jobs = v.map(run_model, range(4)) # 4 is the number of CPUs\n",
    "# models = jobs.get()\n",
    "# statistic = gelman_rubin(models)"
   ]
  },
  {
   "cell_type": "code",
   "execution_count": 127,
   "metadata": {},
   "outputs": [
    {
     "name": "stdout",
     "output_type": "stream",
     "text": [
      "1.0043100388161659\n"
     ]
    }
   ],
   "source": [
    "# import numpy as np\n",
    "# allStatValues = statistic.values()\n",
    "# print(np.max(allStatValues))"
   ]
  },
  {
   "cell_type": "code",
   "execution_count": 150,
   "metadata": {},
   "outputs": [],
   "source": [
    "# m = models[3]"
   ]
  },
  {
   "cell_type": "markdown",
   "metadata": {},
   "source": [
    "## Model parameters"
   ]
  },
  {
   "cell_type": "code",
   "execution_count": 12,
   "metadata": {},
   "outputs": [
    {
     "name": "stdout",
     "output_type": "stream",
     "text": [
      "                            mean         std         2.5q          25q          50q          75q        97.5q       mc err\n",
      "a                        1.89486   0.0757789      1.75209      1.84563      1.89273      1.94204      2.04997  0.000608339\n",
      "a_std                   0.283163   0.0644571     0.188724     0.238358     0.272672     0.316225     0.438995  0.000676445\n",
      "a_subj.1                 1.91178   0.0641295       1.7928      1.86803         1.91      1.95355      2.04488  0.000694755\n",
      "a_subj.2                 2.14986   0.0636198      2.02929      2.10697      2.14855      2.19186      2.27693  0.000622913\n",
      "a_subj.3                   1.821   0.0574809      1.71151      1.78161      1.81897       1.8589      1.93803  0.000608219\n",
      "a_subj.4                 1.91414   0.0586902      1.80354      1.87356      1.91218       1.9531      2.03395  0.000618241\n",
      "a_subj.5                 2.33517   0.0855555       2.1755      2.27627      2.33253      2.39033      2.51078  0.000771903\n",
      "a_subj.6                 1.36001   0.0393469      1.28602      1.33334      1.35899       1.3856      1.43949  0.000399975\n",
      "a_subj.7                 1.92767   0.0595794      1.81516      1.88671      1.92654      1.96775      2.04701  0.000496995\n",
      "a_subj.8                 1.66528   0.0491492      1.57273       1.6314      1.66387      1.69809      1.76464  0.000446213\n",
      "a_subj.9                 1.84872   0.0548216      1.74211      1.81177      1.84735       1.8852      1.95941  0.000543056\n",
      "a_subj.10                2.06611   0.0657502      1.94035      2.02131      2.06461      2.10984      2.19978  0.000546991\n",
      "a_subj.11                2.13141   0.0748729      1.99237      2.08061      2.12868      2.17999      2.28404  0.000753676\n",
      "a_subj.12                1.99479   0.0592877      1.88247      1.95444      1.99283      2.03264      2.11619  0.000601756\n",
      "a_subj.13                1.85677   0.0545746      1.75472      1.81874      1.85507      1.89288      1.96689  0.000527002\n",
      "a_subj.14                1.87476    0.053242      1.77449      1.83897      1.87318      1.90965      1.98333  0.000480674\n",
      "a_subj.16                1.53274    0.043104      1.45172       1.5024      1.53187      1.56149      1.61996  0.000395824\n",
      "t                       0.677911   0.0300219     0.620401     0.658514     0.677054     0.696708     0.739882  0.000290804\n",
      "t_std                   0.113533   0.0251238    0.0762345    0.0959869     0.109815     0.126574     0.173312  0.000256047\n",
      "t_subj.1                 0.64094   0.0123254     0.613681     0.633256     0.641959     0.649541     0.661998  0.000158047\n",
      "t_subj.2                0.690947   0.0146152     0.658981     0.681933     0.692461     0.701322     0.715294  0.000144019\n",
      "t_subj.3                0.486523  0.00910945     0.466677     0.480877     0.487279     0.493035     0.502217  0.000100648\n",
      "t_subj.4                0.732819   0.0105209     0.709172     0.726422     0.733894      0.74028     0.750428  0.000103531\n",
      "t_subj.5                0.666734   0.0193145     0.622591     0.655503     0.668923     0.680489     0.698023   0.00018262\n",
      "t_subj.6                0.661493  0.00576507     0.648911     0.657937     0.662099     0.665583     0.671139  5.34398e-05\n",
      "t_subj.7                0.575858   0.0104239     0.552669     0.569499     0.576895     0.583189     0.593441  9.39348e-05\n",
      "t_subj.8                0.611023  0.00880506     0.591563     0.605586     0.611842     0.617341     0.625837  8.39589e-05\n",
      "t_subj.9                0.716158   0.0107575      0.69206     0.709621     0.717215     0.723825     0.734088  0.000114265\n",
      "t_subj.10               0.935722   0.0127227     0.907855     0.927984     0.936719     0.944754     0.957405   0.00011788\n",
      "t_subj.11               0.646755   0.0165747     0.610797     0.636542     0.647839     0.658281     0.676162  0.000201509\n",
      "t_subj.12               0.787446   0.0157592     0.753491     0.777681     0.788663     0.798603     0.815168  0.000184234\n",
      "t_subj.13               0.591201   0.0089695     0.571379     0.585638      0.59212     0.597521     0.606081   9.5126e-05\n",
      "t_subj.14               0.755031  0.00945725     0.734163     0.749262     0.755972      0.76176     0.770569  0.000106815\n",
      "t_subj.16               0.685878  0.00615342     0.672172     0.682113     0.686489     0.690256     0.696096  5.73008e-05\n",
      "z                       0.500976  0.00840203     0.484562     0.495362     0.500909     0.506485      0.51783   0.00014691\n",
      "z_std                   0.072657   0.0299172    0.0147616    0.0521077    0.0730049    0.0932307     0.131909  0.000909977\n",
      "z_subj.1                0.504836   0.0160539     0.473808     0.494414     0.504374     0.514958     0.537793  0.000208046\n",
      "z_subj.2                0.483126   0.0177204     0.444735     0.471714     0.484796      0.49581     0.513273  0.000312978\n",
      "z_subj.3                0.498946   0.0158269     0.466573     0.489071     0.499057     0.509208     0.529706   0.00019347\n",
      "z_subj.4                0.490952   0.0164746     0.456616     0.480582      0.49217     0.502005     0.521044  0.000236491\n",
      "z_subj.5                0.503854   0.0171404     0.470296     0.492919     0.503354     0.514349     0.539046  0.000192352\n",
      "z_subj.6                0.497507    0.014936     0.466831     0.488224     0.497743     0.507149     0.526991  0.000185771\n",
      "z_subj.7                0.502659   0.0156106      0.47222     0.492446     0.502386     0.512476     0.534391  0.000204347\n",
      "z_subj.8                0.508956   0.0159252     0.479904     0.498053     0.508034     0.518918     0.542359  0.000243384\n",
      "z_subj.9                0.477893   0.0191239     0.437151      0.46536     0.479434     0.491872     0.510702  0.000415408\n",
      "z_subj.10               0.507882   0.0163699     0.477516     0.496834     0.507017     0.518107     0.542389  0.000227227\n",
      "z_subj.11                0.51033   0.0171163     0.478792     0.498807     0.509069     0.520997     0.547185  0.000266765\n",
      "z_subj.12               0.519138    0.018202     0.488652     0.505999     0.517522     0.530661     0.558152  0.000330967\n",
      "z_subj.13               0.486769   0.0171775     0.450209     0.475848     0.488148     0.498539      0.51739  0.000291301\n",
      "z_subj.14               0.522397   0.0185762     0.490975     0.509047     0.520634     0.534448     0.562475  0.000386024\n",
      "z_subj.16               0.499431   0.0150885     0.468786     0.490124     0.499456     0.509212     0.529055  0.000157154\n",
      "v_Intercept            -0.084578    0.181483    -0.447817    -0.201404   -0.0853222    0.0316172      0.27891   0.00350086\n",
      "v_Intercept_std         0.623885    0.141153     0.414843     0.524624     0.602729     0.697978      0.95771   0.00211053\n",
      "v_Intercept_subj.1      0.836264    0.165488     0.527906     0.724347      0.83171     0.942112      1.18049   0.00461514\n",
      "v_Intercept_subj.2     -0.549204    0.147784    -0.840367    -0.644788    -0.550826    -0.451477    -0.256286   0.00418097\n",
      "v_Intercept_subj.3      -0.86351    0.162242     -1.19027    -0.967101     -0.86373    -0.758219    -0.542049   0.00403827\n",
      "v_Intercept_subj.4     -0.805554    0.165006      -1.1445    -0.911218    -0.799296    -0.692557    -0.491685   0.00461445\n",
      "v_Intercept_subj.5     -0.311659    0.164909    -0.608009    -0.424952    -0.322588    -0.210389    0.0439953   0.00529313\n",
      "v_Intercept_subj.6     -0.152373    0.175471     -0.49951    -0.266887    -0.151165   -0.0376848      0.18895   0.00398064\n",
      "v_Intercept_subj.7      0.428957    0.157248     0.102518     0.328117     0.432504     0.534221     0.731632   0.00416451\n",
      "v_Intercept_subj.8      0.353603    0.168588   0.00582068     0.247665     0.360423     0.467404     0.667714   0.00438042\n",
      "v_Intercept_subj.9     -0.445826    0.165842    -0.749621    -0.559955    -0.454567    -0.340533   -0.0936427   0.00455833\n",
      "v_Intercept_subj.10      0.54748    0.161359     0.249375     0.438938     0.541885     0.649165     0.887415   0.00524453\n",
      "v_Intercept_subj.11     0.692095    0.153041     0.389939     0.593596     0.691707     0.790394     0.996996   0.00408602\n",
      "v_Intercept_subj.12     0.064209    0.148572    -0.219318   -0.0329922    0.0602549     0.158986     0.366626   0.00424872\n",
      "v_Intercept_subj.13    -0.628898    0.160108    -0.944964    -0.733679    -0.627568    -0.525206    -0.314732   0.00388393\n",
      "v_Intercept_subj.14    -0.381567    0.181647    -0.765201    -0.496009    -0.368377    -0.258457   -0.0543007   0.00651746\n",
      "v_Intercept_subj.16    -0.128203    0.175514    -0.485468    -0.239217    -0.121612    -0.010266     0.200408   0.00444833\n",
      "v_gain                0.00118648  0.00225499  -0.00321108 -0.000214283   0.00111587   0.00260688   0.00573501   9.0545e-05\n",
      "v_gain_std            0.00273989  0.00226287  4.57187e-05  0.000973099   0.00227221   0.00395465   0.00827276  0.000107132\n",
      "v_gain_subj.1        0.000249353  0.00357421  -0.00804846  -0.00163657  0.000539202    0.0025283   0.00660862  0.000111267\n",
      "v_gain_subj.2        0.000443541  0.00335075  -0.00694755  -0.00143965  0.000612566   0.00254389   0.00671862  0.000111857\n",
      "v_gain_subj.3          0.0011578  0.00353374  -0.00618962 -0.000833556   0.00108951   0.00311645   0.00839694  8.94081e-05\n",
      "v_gain_subj.4          0.0023027  0.00368742  -0.00401935 -2.50111e-05    0.0019578   0.00422969    0.0110179  0.000114956\n",
      "v_gain_subj.5       -3.21833e-05  0.00363936  -0.00865226  -0.00189366  0.000374879   0.00228847    0.0061994  0.000126909\n",
      "v_gain_subj.6         0.00122279   0.0036425  -0.00622294 -0.000761003   0.00112446   0.00329689   0.00863982  9.79041e-05\n",
      "v_gain_subj.7         0.00211501  0.00360345  -0.00425706  -0.00011601   0.00180452   0.00407834    0.0103336  0.000105379\n",
      "v_gain_subj.8          0.0025361  0.00390762  -0.00389114  5.19776e-05    0.0021018   0.00446384    0.0119581  0.000116669\n",
      "v_gain_subj.9        0.000573897  0.00351746  -0.00718695  -0.00134024  0.000689873   0.00267794   0.00735808  0.000100445\n",
      "v_gain_subj.10        0.00120312  0.00333911  -0.00568955 -0.000694346   0.00112077   0.00310598   0.00804817  0.000101861\n",
      "v_gain_subj.11        0.00162125  0.00338126  -0.00481917 -0.000335081   0.00144247   0.00352844   0.00881825  9.67538e-05\n",
      "v_gain_subj.12       0.000234088  0.00341628  -0.00747825  -0.00163579  0.000512151   0.00243869   0.00639271   0.00011376\n",
      "v_gain_subj.13        0.00211966  0.00357245  -0.00420475 -8.49616e-05   0.00182712   0.00404088    0.0102389  0.000105792\n",
      "v_gain_subj.14       -7.8897e-05  0.00362695  -0.00866215  -0.00198673   0.00029643   0.00229955   0.00632994  0.000122098\n",
      "v_gain_subj.16         0.0021463  0.00372465  -0.00432405 -0.000110966   0.00181674   0.00403038     0.011019  0.000103329\n",
      "v_loss                -0.0100146  0.00481859   -0.0199273    -0.013018  -0.00996153  -0.00688071 -0.000709983  0.000162574\n",
      "v_loss_std            0.00851775  0.00554999  0.000503557    0.0042255   0.00783748    0.0118995    0.0209362  0.000262255\n",
      "v_loss_subj.1        -0.00718196  0.00868129   -0.0228479   -0.0126257  -0.00797742  -0.00234442    0.0123813  0.000226277\n",
      "v_loss_subj.2          -0.011787  0.00773167   -0.0281008    -0.016388   -0.0113902  -0.00691778   0.00276319  0.000188957\n",
      "v_loss_subj.3         -0.0104506  0.00850922   -0.0282072   -0.0153433   -0.0103422  -0.00555968   0.00685419  0.000197607\n",
      "v_loss_subj.4         -0.0111078  0.00831078   -0.0287247   -0.0160071   -0.0107188  -0.00609161    0.0050311  0.000204162\n",
      "v_loss_subj.5        -0.00533397  0.00922313   -0.0213151   -0.0114228  -0.00652133 -0.000260418    0.0160936  0.000290445\n",
      "v_loss_subj.6         -0.0105434  0.00886616   -0.0289814   -0.0156396   -0.0104712  -0.00539479   0.00768849   0.00019332\n",
      "v_loss_subj.7         -0.0110978  0.00840156   -0.0288646   -0.0160643   -0.0107372  -0.00600001   0.00552597  0.000201873\n",
      "v_loss_subj.8         -0.0116193  0.00852035   -0.0301488   -0.0164282   -0.0110337   -0.0064793   0.00484061  0.000197244\n",
      "v_loss_subj.9        -0.00465791  0.00943811   -0.0202683   -0.0109774  -0.00604453  0.000482101    0.0171476  0.000279643\n",
      "v_loss_subj.10       -0.00506451  0.00905579   -0.0207204   -0.0109874  -0.00632779  6.83173e-05    0.0158043  0.000302245\n",
      "v_loss_subj.11       -0.00951021  0.00808817   -0.0255629   -0.0143166  -0.00972203   -0.0047593   0.00757929  0.000188165\n",
      "v_loss_subj.12       -0.00966175  0.00797333   -0.0251777   -0.0144041  -0.00984607  -0.00503986   0.00713873  0.000186369\n",
      "v_loss_subj.13       -0.00848987  0.00834738   -0.0244534   -0.0135602   -0.0089451  -0.00372102   0.00972203  0.000189835\n",
      "v_loss_subj.14        -0.0206549   0.0115799   -0.0482481   -0.0273183   -0.0186934   -0.0120889  -0.00365048  0.000465933\n",
      "v_loss_subj.16        -0.0132587  0.00933385   -0.0345188   -0.0183624   -0.0122747  -0.00752804   0.00346583  0.000238648\n",
      "DIC: 8251.550120\n",
      "deviance: 8194.762587\n",
      "pD: 56.787533\n"
     ]
    }
   ],
   "source": [
    "m.print_stats()"
   ]
  },
  {
   "cell_type": "markdown",
   "metadata": {},
   "source": [
    "$\\lambda$"
   ]
  },
  {
   "cell_type": "code",
   "execution_count": 13,
   "metadata": {},
   "outputs": [],
   "source": [
    "import numpy as np"
   ]
  },
  {
   "cell_type": "code",
   "execution_count": 14,
   "metadata": {},
   "outputs": [
    {
     "name": "stdout",
     "output_type": "stream",
     "text": [
      "('group level mean of lamdba is: ', -8.440656431593165)\n",
      "('2.5% percentile for beta_L: ', -0.019927315501046646)\n",
      "('97.5% percentile for beta_G: ', 0.005735010176360861)\n"
     ]
    }
   ],
   "source": [
    "modelParamsDF = m.nodes_db\n",
    "# modelParamsDF.to_csv(\"fullModel_params.csv\")\n",
    "\n",
    "# group level mean of lambda\n",
    "groupLevelMeanOfLambda = modelParamsDF.loc['v_loss', 'mean']/modelParamsDF.loc['v_gain', 'mean']\n",
    "print(\"group level mean of lamdba is: \", groupLevelMeanOfLambda)\n",
    "\n",
    "# 95% CI for beta_G, beta_L\n",
    "print(\"2.5% percentile for beta_L: \", modelParamsDF.loc['v_loss', '2.5q'])\n",
    "print(\"97.5% percentile for beta_G: \", modelParamsDF.loc['v_gain', '97.5q'])"
   ]
  },
  {
   "cell_type": "code",
   "execution_count": 15,
   "metadata": {},
   "outputs": [
    {
     "name": "stdout",
     "output_type": "stream",
     "text": [
      "[1, 2, 3, 4, 5, 6, 7, 8, 9, 10, 11, 12, 13, 14, 16]\n",
      "15\n"
     ]
    }
   ],
   "source": [
    "allSubjectsIndex = list(set(data['subj_idx']))\n",
    "print(allSubjectsIndex)\n",
    "totalNumSubjects = len(allSubjectsIndex)\n",
    "print(totalNumSubjects)"
   ]
  },
  {
   "cell_type": "code",
   "execution_count": 16,
   "metadata": {},
   "outputs": [
    {
     "name": "stdout",
     "output_type": "stream",
     "text": [
      "('Number of people with beta_L > beta_G = ', 0)\n",
      "Average lambda over all individuals = 18.0137650284 (79.4890809755)\n"
     ]
    }
   ],
   "source": [
    "# how many participants have beta_L > beta_G, how many have the 95% CI greater?\n",
    "# participant level mean (SD) of lambda\n",
    "numLambdaMean = 0\n",
    "numLambdaCI = 0\n",
    "allParticipantLambdas = []\n",
    "\n",
    "for subjectIndex in allSubjectsIndex:\n",
    "    beta_gain = modelParamsDF.loc['v_gain_subj.{}'.format(subjectIndex), 'mean']\n",
    "    beta_loss = modelParamsDF.loc['v_loss_subj.{}'.format(subjectIndex), 'mean']\n",
    "    beta_L_lowerBound = modelParamsDF.loc['v_loss_subj.{}'.format(subjectIndex), '2.5q']\n",
    "    beta_G_upperBound = modelParamsDF.loc['v_gain_subj.{}'.format(subjectIndex), '97.5q']\n",
    "    \n",
    "    if beta_loss > beta_gain:\n",
    "        numLambdaMean += 1\n",
    "        \n",
    "    if beta_L_lowerBound > beta_G_upperBound:\n",
    "        numLambdaCI += 1\n",
    "        \n",
    "    lambdaForThisParticipant = beta_loss/beta_gain\n",
    "    allParticipantLambdas.append(lambdaForThisParticipant)\n",
    "\n",
    "print(\"Number of people with beta_L > beta_G = \", numLambdaMean)\n",
    "# print(\"Number of people with 95% CI of beta_L > beta_G = \", numLambdaCI)\n",
    "print(\"Average lambda over all individuals = {} ({})\".format(np.mean(allParticipantLambdas), np.std(allParticipantLambdas)))"
   ]
  },
  {
   "cell_type": "code",
   "execution_count": 17,
   "metadata": {},
   "outputs": [
    {
     "name": "stdout",
     "output_type": "stream",
     "text": [
      "[-28.80237979677113, -26.574827138194713, -9.02625765414522, -4.82380761360136, 165.73726397199982, -8.622356944705217, -5.247172836357563, -4.581563244226758, -8.116286167968381, -4.2094681761842105, -5.865972254534768, -41.27393545195444, -4.00530172589314, 261.7960102382994, -6.177469779591817]\n"
     ]
    }
   ],
   "source": [
    "print(allParticipantLambdas)"
   ]
  },
  {
   "cell_type": "code",
   "execution_count": 19,
   "metadata": {},
   "outputs": [
    {
     "data": {
      "image/png": "[encoded data removed]",
      "text/plain": [
       "<Figure size 432x288 with 1 Axes>"
      ]
     },
     "metadata": {
      "needs_background": "light"
     },
     "output_type": "display_data"
    }
   ],
   "source": [
    "from matplotlib import pyplot as plt\n",
    "plt.hist(allParticipantLambdas)\n",
    "plt.show()"
   ]
  },
  {
   "cell_type": "code",
   "execution_count": 20,
   "metadata": {},
   "outputs": [
    {
     "name": "stdout",
     "output_type": "stream",
     "text": [
      "('beta_L mean:', -0.010014647025901938)\n",
      "('beta_L 2.5q:', -0.019927315501046646)\n",
      "('beta_L 97.5q:', -0.000709982604429546)\n",
      "('beta_L median', -0.009961530117484801)\n",
      "('beta_L SD', 0.004818586468436905)\n",
      "('beta_G mean:', 0.0011864772730729052)\n",
      "('beta_G 2.5q:', -0.003211079834351223)\n",
      "('beta_G 97.5q:', 0.005735010176360861)\n",
      "('beta_G median', 0.0011158676548913011)\n",
      "('beta_G SD', 0.002254987728902923)\n"
     ]
    }
   ],
   "source": [
    "print(\"beta_L mean:\", modelParamsDF.loc['v_loss', 'mean'])\n",
    "print(\"beta_L 2.5q:\", modelParamsDF.loc['v_loss', '2.5q'])\n",
    "print(\"beta_L 97.5q:\", modelParamsDF.loc['v_loss', '97.5q'])\n",
    "print(\"beta_L median\", modelParamsDF.loc['v_loss', '50q'])\n",
    "print(\"beta_L SD\", modelParamsDF.loc['v_loss', 'std'])\n",
    "\n",
    "print(\"beta_G mean:\", modelParamsDF.loc['v_gain', 'mean'])\n",
    "print(\"beta_G 2.5q:\", modelParamsDF.loc['v_gain', '2.5q'])\n",
    "print(\"beta_G 97.5q:\", modelParamsDF.loc['v_gain', '97.5q'])\n",
    "print(\"beta_G median\", modelParamsDF.loc['v_gain', '50q'])\n",
    "print(\"beta_G SD\", modelParamsDF.loc['v_gain', 'std'])"
   ]
  },
  {
   "cell_type": "markdown",
   "metadata": {},
   "source": [
    "$\\gamma$"
   ]
  },
  {
   "cell_type": "code",
   "execution_count": 21,
   "metadata": {},
   "outputs": [
    {
     "name": "stdout",
     "output_type": "stream",
     "text": [
      "('mean value of threshold: ', 1.894864706296461)\n",
      "('confidence interval of gamma: ', -0.029252106037522527, 0.03378626820688914)\n"
     ]
    }
   ],
   "source": [
    "meanA = modelParamsDF.loc['a', 'mean']\n",
    "print(\"mean value of threshold: \", meanA)\n",
    "\n",
    "# 95 CI interval\n",
    "Z_CI_lowerBound = (modelParamsDF.loc['z'.format(subjectIndex), '2.5q'] - 0.5)*meanA\n",
    "Z_CI_upperBound = (modelParamsDF.loc['z'.format(subjectIndex), '97.5q'] - 0.5)*meanA\n",
    "print(\"confidence interval of gamma: \", Z_CI_lowerBound, Z_CI_upperBound)"
   ]
  },
  {
   "cell_type": "code",
   "execution_count": 22,
   "metadata": {},
   "outputs": [
    {
     "name": "stdout",
     "output_type": "stream",
     "text": [
      "Mean value of pre-valuation bias across all participants: 0.00185377751763 (0.0228745598513)\n",
      "('Number of participants with negative gamma: ', 7)\n",
      "('Number of participants with 95% CI of gamma negative: ', 0)\n"
     ]
    }
   ],
   "source": [
    "# mean gamma across all participants, how many participants have 95% CI of gamma strictly negative\n",
    "allParticipantsZ = []\n",
    "countGammaMean = 0\n",
    "countGammaCI = 0\n",
    "\n",
    "for participantIndex in allSubjectsIndex:\n",
    "    a_participant = modelParamsDF.loc['a_subj.{}'.format(participantIndex), 'mean']\n",
    "    z_participant = (modelParamsDF.loc['z_subj.{}'.format(participantIndex), 'mean'] - 0.5)*meanA\n",
    "    allParticipantsZ.append(z_participant)\n",
    "    z_upperBound_participant = (modelParamsDF.loc['z_subj.{}'.format(participantIndex), '97.5q'] - 0.5)*meanA\n",
    "    \n",
    "    if z_upperBound_participant < 0:\n",
    "        countGammaCI += 1\n",
    "        \n",
    "    if z_participant < 0:\n",
    "        countGammaMean += 1\n",
    "    \n",
    "mean_Z = np.mean(allParticipantsZ)\n",
    "SD_Z = np.std(allParticipantsZ)\n",
    "print(\"Mean value of pre-valuation bias across all participants: {} ({})\".format(mean_Z, SD_Z))\n",
    "print(\"Number of participants with negative gamma: \", countGammaMean)\n",
    "print(\"Number of participants with 95% CI of gamma negative: \", countGammaCI)"
   ]
  },
  {
   "cell_type": "code",
   "execution_count": 23,
   "metadata": {},
   "outputs": [
    {
     "name": "stdout",
     "output_type": "stream",
     "text": [
      "('gamma mean:', 0.0018488797335745382)\n",
      "('gamma 2.5q:', -0.029252106037522527)\n",
      "('gamma 97.5q:', 0.03378626820688914)\n",
      "('gamma median', 0.0017232663199309298)\n",
      "('gamma SD', 0.015920702237296164)\n"
     ]
    }
   ],
   "source": [
    "print(\"gamma mean:\", (modelParamsDF.loc['z', 'mean'] - 0.5)*meanA)\n",
    "print(\"gamma 2.5q:\", (modelParamsDF.loc['z', '2.5q'] - 0.5)*meanA)\n",
    "print(\"gamma 97.5q:\", (modelParamsDF.loc['z', '97.5q'] - 0.5)*meanA)\n",
    "print(\"gamma median\", (modelParamsDF.loc['z', '50q'] - 0.5)*meanA)\n",
    "print(\"gamma SD\", (modelParamsDF.loc['z', 'std'])*meanA)"
   ]
  },
  {
   "cell_type": "markdown",
   "metadata": {},
   "source": [
    "$\\alpha$"
   ]
  },
  {
   "cell_type": "code",
   "execution_count": 24,
   "metadata": {},
   "outputs": [
    {
     "name": "stdout",
     "output_type": "stream",
     "text": [
      "('Group-level mean of alpha is: ', -0.08457797030145903)\n",
      "Mean value of fixed utility bias across all participants: -0.0896123799369 (0.531890698377)\n",
      "('Number of participants with negative alpha: ', 9)\n",
      "('Number of participants with 95% CI of alpha negative: ', 6)\n"
     ]
    }
   ],
   "source": [
    "# group-level mean\n",
    "print(\"Group-level mean of alpha is: \", modelParamsDF.loc['v_Intercept'.format(subjectIndex), 'mean'])\n",
    "\n",
    "# how many participants have mean and 95% CI negative?\n",
    "allParticipantsAlphas = []\n",
    "countAlphaMean = 0\n",
    "countAlphaCI = 0\n",
    "\n",
    "for participantIndex in allSubjectsIndex:\n",
    "    alpha_participant = modelParamsDF.loc['v_Intercept_subj.{}'.format(participantIndex), 'mean']\n",
    "    allParticipantsAlphas.append(alpha_participant)\n",
    "    alpha_upperBound_participant = modelParamsDF.loc['v_Intercept_subj.{}'.format(participantIndex), '97.5q']\n",
    "    \n",
    "    if alpha_upperBound_participant < 0:\n",
    "        countAlphaCI += 1\n",
    "        \n",
    "    if alpha_participant < 0:\n",
    "        countAlphaMean += 1\n",
    "        \n",
    "mean_alpha = np.mean(allParticipantsAlphas)\n",
    "SD_alpha = np.std(allParticipantsAlphas)\n",
    "print(\"Mean value of fixed utility bias across all participants: {} ({})\".format(mean_alpha, SD_alpha))\n",
    "print(\"Number of participants with negative alpha: \", countAlphaMean)\n",
    "print(\"Number of participants with 95% CI of alpha negative: \", countAlphaCI)"
   ]
  },
  {
   "cell_type": "code",
   "execution_count": 25,
   "metadata": {},
   "outputs": [
    {
     "name": "stdout",
     "output_type": "stream",
     "text": [
      "('alpha mean:', -0.08457797030145903)\n",
      "('alpha 2.5q:', -0.4478169067773763)\n",
      "('alpha 97.5q:', 0.2789103545128822)\n",
      "('alpha median', -0.08532216732237168)\n",
      "('alpha SD', 0.18148328230041863)\n"
     ]
    }
   ],
   "source": [
    "print(\"alpha mean:\", modelParamsDF.loc['v_Intercept', 'mean'])\n",
    "print(\"alpha 2.5q:\", modelParamsDF.loc['v_Intercept', '2.5q'])\n",
    "print(\"alpha 97.5q:\", modelParamsDF.loc['v_Intercept', '97.5q'])\n",
    "print(\"alpha median\", modelParamsDF.loc['v_Intercept', '50q'])\n",
    "print(\"alpha SD\", modelParamsDF.loc['v_Intercept', 'std'])"
   ]
  },
  {
   "cell_type": "markdown",
   "metadata": {},
   "source": [
    "# Correlation with rejection rates"
   ]
  },
  {
   "cell_type": "code",
   "execution_count": 26,
   "metadata": {},
   "outputs": [
    {
     "data": {
      "text/plain": [
       "array([0.85098039, 0.29508197, 0.23622047, 0.24497992, 0.37086093,\n",
       "       0.5       , 0.75423729, 0.71713147, 0.32142857, 0.77865613,\n",
       "       0.85826772, 0.60816327, 0.29803922, 0.468     , 0.53125   ])"
      ]
     },
     "execution_count": 26,
     "metadata": {},
     "output_type": "execute_result"
    }
   ],
   "source": [
    "def getPAcceptFromSubjectIndex(subjectIndex):\n",
    "    subjectResponses = np.array(data.loc[data['subj_idx'] == subjectIndex]['response'])\n",
    "    return np.mean(subjectResponses)\n",
    "\n",
    "allParticipants_p_accept = np.array([getPAcceptFromSubjectIndex(subjectIndex) for subjectIndex in allSubjectsIndex])\n",
    "allParticipants_p_accept"
   ]
  },
  {
   "cell_type": "code",
   "execution_count": 27,
   "metadata": {},
   "outputs": [],
   "source": [
    "from scipy.stats.stats import pearsonr\n",
    "import seaborn as sns\n",
    "from matplotlib import pyplot as plt"
   ]
  },
  {
   "cell_type": "code",
   "execution_count": 28,
   "metadata": {},
   "outputs": [
    {
     "name": "stdout",
     "output_type": "stream",
     "text": [
      "('Pearson correlation between Lambda and P(Acceptance) is: ', (-0.1724616214012026, 0.5388004265206369))\n"
     ]
    },
    {
     "data": {
      "image/png": "[encoded data removed]",
      "text/plain": [
       "<Figure size 432x288 with 1 Axes>"
      ]
     },
     "metadata": {
      "needs_background": "light"
     },
     "output_type": "display_data"
    }
   ],
   "source": [
    "sns.regplot(allParticipantLambdas, allParticipants_p_accept, color ='blue')\n",
    "plt.xlabel(\"lambda\")\n",
    "plt.ylabel(\"P(Accept)\")\n",
    "print(\"Pearson correlation between Lambda and P(Acceptance) is: \", pearsonr(allParticipantLambdas, allParticipants_p_accept))"
   ]
  },
  {
   "cell_type": "code",
   "execution_count": 29,
   "metadata": {},
   "outputs": [
    {
     "name": "stdout",
     "output_type": "stream",
     "text": [
      "('Pearson correlation between gamma and P(Acceptance) is: ', (0.5923832844117859, 0.019970253528887))\n"
     ]
    },
    {
     "data": {
      "image/png": "[encoded data removed]",
      "text/plain": [
       "<Figure size 432x288 with 1 Axes>"
      ]
     },
     "metadata": {
      "needs_background": "light"
     },
     "output_type": "display_data"
    }
   ],
   "source": [
    "sns.regplot(allParticipantsZ, allParticipants_p_accept, color ='blue')\n",
    "plt.xlabel(\"gamma\")\n",
    "plt.ylabel(\"P(Accept)\")\n",
    "print(\"Pearson correlation between gamma and P(Acceptance) is: \", pearsonr(allParticipantsZ, allParticipants_p_accept))"
   ]
  },
  {
   "cell_type": "code",
   "execution_count": 30,
   "metadata": {},
   "outputs": [
    {
     "name": "stdout",
     "output_type": "stream",
     "text": [
      "('Pearson correlation between alpha and P(Acceptance) is: ', (0.9872212237916544, 9.38078735942993e-12))\n"
     ]
    },
    {
     "data": {
      "image/png": "[encoded data removed]",
      "text/plain": [
       "<Figure size 432x288 with 1 Axes>"
      ]
     },
     "metadata": {
      "needs_background": "light"
     },
     "output_type": "display_data"
    }
   ],
   "source": [
    "sns.regplot(allParticipantsAlphas, allParticipants_p_accept, color ='blue')\n",
    "plt.xlabel(\"alpha\")\n",
    "plt.ylabel(\"P(Accept)\")\n",
    "print(\"Pearson correlation between alpha and P(Acceptance) is: \", pearsonr(allParticipantsAlphas, allParticipants_p_accept))"
   ]
  },
  {
   "cell_type": "markdown",
   "metadata": {},
   "source": [
    "# Correlation with lambda (traditional method -- computed using logistic regression)"
   ]
  },
  {
   "cell_type": "code",
   "execution_count": 163,
   "metadata": {},
   "outputs": [],
   "source": [
    "import matplotlib\n",
    "matplotlib.rcParams.update({'font.size': 30})"
   ]
  },
  {
   "cell_type": "code",
   "execution_count": 164,
   "metadata": {},
   "outputs": [],
   "source": [
    "from sklearn.linear_model import LogisticRegression\n",
    "allSubjectsIndex = np.array(allSubjectsIndex)\n",
    "indicesToAnalyze = allSubjectsIndex[allParticipants_p_accept[:] != 0]\n",
    "\n",
    "def computeParticipantLambdaLR(subjectIndex):\n",
    "    participantData = data[data['subj_idx'] == subjectIndex]\n",
    "    X = participantData[['gain', 'loss']]\n",
    "    y = participantData['response']\n",
    "    classifier = LogisticRegression(C=1e5).fit(X, y)\n",
    "    coefficients = classifier.coef_\n",
    "    participantLambdaLR = coefficients[0][1]/coefficients[0][0]\n",
    "    return participantLambdaLR\n",
    "\n",
    "allParticipantLambdasLR = [computeParticipantLambdaLR(_) for _ in indicesToAnalyze]"
   ]
  },
  {
   "cell_type": "code",
   "execution_count": 165,
   "metadata": {},
   "outputs": [
    {
     "name": "stdout",
     "output_type": "stream",
     "text": [
      "lambda LR min: 0.989935285484, max: 7.03334914619, median: 1.93423091329\n",
      "15\n"
     ]
    }
   ],
   "source": [
    "print('lambda LR min: {}, max: {}, median: {}'.format(np.min(allParticipantLambdasLR), np.max(allParticipantLambdasLR), np.median(allParticipantLambdasLR)))\n",
    "print(len(allParticipantLambdasLR))"
   ]
  },
  {
   "cell_type": "code",
   "execution_count": 166,
   "metadata": {},
   "outputs": [
    {
     "name": "stdout",
     "output_type": "stream",
     "text": [
      "[0.9899352854840588, 3.453305801759754, 7.033349146194107, 2.660130234939878, 2.665169272704418, 1.4177859538286908, 1.3983864066361502, 1.1293814260736712, 2.3637835822539737, 1.084978076798603, 1.1126526770859366, 1.9342309132896187, 1.938842374657405, 2.6021258708831616, 1.683946730216291]\n"
     ]
    }
   ],
   "source": [
    "print(allParticipantLambdasLR)"
   ]
  },
  {
   "cell_type": "code",
   "execution_count": 167,
   "metadata": {},
   "outputs": [
    {
     "name": "stdout",
     "output_type": "stream",
     "text": [
      "Lambda computed using logistic regression, mean: 2.23120025019, SD: 1.46582717539\n"
     ]
    }
   ],
   "source": [
    "print(\"Lambda computed using logistic regression, mean: {}, SD: {}\".format(np.mean(allParticipantLambdasLR), np.std(allParticipantLambdasLR)))"
   ]
  },
  {
   "cell_type": "code",
   "execution_count": 168,
   "metadata": {},
   "outputs": [
    {
     "data": {
      "text/plain": [
       "(array([0., 1., 5., 3., 1., 3., 1., 0., 0.]),\n",
       " array([0. , 0.5, 1. , 1.5, 2. , 2.5, 3. , 3.5, 4. , 4.5]),\n",
       " <a list of 9 Patch objects>)"
      ]
     },
     "execution_count": 168,
     "metadata": {},
     "output_type": "execute_result"
    },
    {
     "data": {
      "image/png": "[encoded data removed]",
      "text/plain": [
       "<Figure size 432x288 with 1 Axes>"
      ]
     },
     "metadata": {
      "needs_background": "light"
     },
     "output_type": "display_data"
    }
   ],
   "source": [
    "from matplotlib import pyplot as plt\n",
    "plt.xticks(np.arange(0, 5, 0.5))\n",
    "plt.hist(allParticipantLambdasLR, np.arange(0, 5, 0.5))"
   ]
  },
  {
   "cell_type": "code",
   "execution_count": 169,
   "metadata": {},
   "outputs": [
    {
     "name": "stdout",
     "output_type": "stream",
     "text": [
      "('Pearson correlation between P(accept) and Logistic regression lambda is: ', (-0.6914317915463566, 0.004301613643063369))\n"
     ]
    },
    {
     "data": {
      "image/png": "[encoded data removed]",
      "text/plain": [
       "<Figure size 432x288 with 1 Axes>"
      ]
     },
     "metadata": {
      "needs_background": "light"
     },
     "output_type": "display_data"
    }
   ],
   "source": [
    "# fig=plt.figure(figsize=(8,8), dpi= 100, facecolor='w', edgecolor='k')\n",
    "# pAcceptToCorrelate = np.array(allParticipants_p_accept)[indicesToAnalyze]\n",
    "sns.regplot(allParticipants_p_accept, allParticipantLambdasLR, color ='blue')\n",
    "plt.xlabel(\"P(accept)\")\n",
    "plt.ylabel(\"Logistic regression lambda\")\n",
    "print(\"Pearson correlation between P(accept) and Logistic regression lambda is: \", pearsonr(allParticipants_p_accept, allParticipantLambdasLR))"
   ]
  },
  {
   "cell_type": "code",
   "execution_count": 170,
   "metadata": {},
   "outputs": [
    {
     "name": "stdout",
     "output_type": "stream",
     "text": [
      "('Pearson correlation between DDM lambda and Logistic regression lambda is: ', (0.06728120328576342, 0.8116937648868648))\n"
     ]
    },
    {
     "data": {
      "image/png": "[encoded data removed]",
      "text/plain": [
       "<Figure size 432x288 with 1 Axes>"
      ]
     },
     "metadata": {
      "needs_background": "light"
     },
     "output_type": "display_data"
    }
   ],
   "source": [
    "# fig=plt.figure(figsize=(8,8), dpi= 100, facecolor='w', edgecolor='k')\n",
    "# lambdasToCorrelate = np.array(allParticipantLambdas)[indicesToAnalyze]\n",
    "sns.regplot(allParticipantLambdas, allParticipantLambdasLR, color ='blue')\n",
    "plt.xlabel(r\"$\\lambda_{DDM}$\")\n",
    "plt.ylabel(r\"$\\lambda_{LR}$\")\n",
    "print(\"Pearson correlation between DDM lambda and Logistic regression lambda is: \", pearsonr(allParticipantLambdas, allParticipantLambdasLR))"
   ]
  },
  {
   "cell_type": "code",
   "execution_count": 171,
   "metadata": {},
   "outputs": [
    {
     "name": "stdout",
     "output_type": "stream",
     "text": [
      "('Pearson correlation between gamma and Logistic regression lambda is: ', (-0.23011933664031847, 0.4093209190093247))\n"
     ]
    },
    {
     "data": {
      "image/png": "[encoded data removed]",
      "text/plain": [
       "<Figure size 432x288 with 1 Axes>"
      ]
     },
     "metadata": {
      "needs_background": "light"
     },
     "output_type": "display_data"
    }
   ],
   "source": [
    "# fig=plt.figure(figsize=(8,8), dpi= 100, facecolor='w', edgecolor='k')\n",
    "# gammasToCorrelate = np.array(allParticipantsZ)[indicesToAnalyze]\n",
    "sns.regplot(allParticipantsZ, allParticipantLambdasLR, color ='blue')\n",
    "plt.xlabel(r\"$\\gamma$\")\n",
    "plt.ylabel(r\"$\\lambda_{LR}$\")\n",
    "print(\"Pearson correlation between gamma and Logistic regression lambda is: \", pearsonr(allParticipantsZ, allParticipantLambdasLR))"
   ]
  },
  {
   "cell_type": "code",
   "execution_count": 172,
   "metadata": {
    "scrolled": true
   },
   "outputs": [
    {
     "name": "stdout",
     "output_type": "stream",
     "text": [
      "('Pearson correlation between alpha and Logistic regression lambda is: ', (-0.7128522404094629, 0.0028551136173619097))\n"
     ]
    },
    {
     "data": {
      "image/png": "[encoded data removed]",
      "text/plain": [
       "<Figure size 432x288 with 1 Axes>"
      ]
     },
     "metadata": {
      "needs_background": "light"
     },
     "output_type": "display_data"
    }
   ],
   "source": [
    "# fig=plt.figure(figsize=(8,8), dpi= 100, facecolor='w', edgecolor='k')\n",
    "# alphasToCorrelate = np.array(allParticipantsAlphas)[indicesToAnalyze]\n",
    "sns.regplot(allParticipantsAlphas, allParticipantLambdasLR, color ='blue')\n",
    "plt.xlabel(r\"$\\alpha$\")\n",
    "plt.ylabel(r\"$\\lambda_{LR}$\")\n",
    "print(\"Pearson correlation between alpha and Logistic regression lambda is: \", pearsonr(allParticipantsAlphas, allParticipantLambdasLR))"
   ]
  },
  {
   "cell_type": "code",
   "execution_count": null,
   "metadata": {},
   "outputs": [],
   "source": []
  }
 ],
 "metadata": {
  "kernelspec": {
   "display_name": "Python 2",
   "language": "python",
   "name": "python2"
  },
  "language_info": {
   "codemirror_mode": {
    "name": "ipython",
    "version": 2
   },
   "file_extension": ".py",
   "mimetype": "text/x-python",
   "name": "python",
   "nbconvert_exporter": "python",
   "pygments_lexer": "ipython2",
   "version": "2.7.16"
  }
 },
 "nbformat": 4,
 "nbformat_minor": 2
}
